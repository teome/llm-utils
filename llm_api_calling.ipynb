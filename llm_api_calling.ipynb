{
 "cells": [
  {
   "cell_type": "markdown",
   "metadata": {},
   "source": [
    "# Experiment and test methods for calling LLM APIs\n",
    "\n",
    "Including:\n",
    "- Helper classes for messages and conversations\n",
    "- Using OpenAI and other libraries wrapping calls\n",
    "- Using requests library to more directly make HTTP, JSON, API calls\n",
    "- Running local models and simply feeding in text interactively"
   ]
  },
  {
   "cell_type": "markdown",
   "metadata": {},
   "source": [
    "## OpenAI lib with messages and conversation class"
   ]
  },
  {
   "cell_type": "code",
   "execution_count": 16,
   "metadata": {},
   "outputs": [],
   "source": [
    "import json\n",
    "import os\n",
    "import sys\n",
    "import openai\n"
   ]
  },
  {
   "cell_type": "code",
   "execution_count": 6,
   "metadata": {},
   "outputs": [
    {
     "data": {
      "text/plain": [
       "True"
      ]
     },
     "execution_count": 6,
     "metadata": {},
     "output_type": "execute_result"
    }
   ],
   "source": [
    "from dotenv import load_dotenv\n",
    "load_dotenv()"
   ]
  },
  {
   "cell_type": "code",
   "execution_count": 7,
   "metadata": {},
   "outputs": [],
   "source": [
    "MODEL = \"gpt-3.5-turbo\""
   ]
  },
  {
   "cell_type": "code",
   "execution_count": 8,
   "metadata": {},
   "outputs": [],
   "source": [
    "from messages import Message, Conversation"
   ]
  },
  {
   "cell_type": "code",
   "execution_count": 9,
   "metadata": {},
   "outputs": [],
   "source": [
    "initial_messages = [\n",
    "    {\"role\": \"system\", \"content\": \"You are a helpful assistant.\"},\n",
    "    {\"role\": \"user\", \"content\": \"What is the history of the Metalheadz label?\"}\n",
    "]\n",
    "\n",
    "conversation = Conversation(messages=initial_messages)"
   ]
  },
  {
   "cell_type": "code",
   "execution_count": 10,
   "metadata": {},
   "outputs": [],
   "source": [
    "client = openai.OpenAI()\n",
    "\n",
    "chat_completion = client.chat.completions.create(\n",
    "    messages=[\n",
    "        {\n",
    "            \"role\": \"user\",\n",
    "            \"content\": \"Say this is a test\",\n",
    "        }\n",
    "    ],\n",
    "    model=MODEL,\n",
    ")\n"
   ]
  },
  {
   "cell_type": "code",
   "execution_count": 21,
   "metadata": {},
   "outputs": [
    {
     "name": "stdout",
     "output_type": "stream",
     "text": [
      "\u001b[91msystem: You are a helpful assistant.\u001b[0m\n",
      "\u001b[92muser: What is the history of the Metalheadz label?\u001b[0m\n",
      "None\n",
      "ChatCompletion(id='chatcmpl-8Sr2gxkPY4sE5YcbxMD23vpHZjRWU', choices=[Choice(finish_reason='stop', index=0, message=ChatCompletionMessage(content='This is a test.', role='assistant', function_call=None, tool_calls=None))], created=1701887770, model='gpt-3.5-turbo-0613', object='chat.completion', system_fingerprint=None, usage=CompletionUsage(completion_tokens=5, prompt_tokens=12, total_tokens=17))\n",
      "{\n",
      "  \"id\": \"chatcmpl-8Sr2gxkPY4sE5YcbxMD23vpHZjRWU\",\n",
      "  \"choices\": [\n",
      "    {\n",
      "      \"finish_reason\": \"stop\",\n",
      "      \"index\": 0,\n",
      "      \"message\": {\n",
      "        \"content\": \"This is a test.\",\n",
      "        \"role\": \"assistant\",\n",
      "        \"function_call\": null,\n",
      "        \"tool_calls\": null\n",
      "      }\n",
      "    }\n",
      "  ],\n",
      "  \"created\": 1701887770,\n",
      "  \"model\": \"gpt-3.5-turbo-0613\",\n",
      "  \"object\": \"chat.completion\",\n",
      "  \"system_fingerprint\": null,\n",
      "  \"usage\": {\n",
      "    \"completion_tokens\": 5,\n",
      "    \"prompt_tokens\": 12,\n",
      "    \"total_tokens\": 17\n",
      "  }\n",
      "}\n"
     ]
    }
   ],
   "source": [
    "print(conversation.display_conversation())\n",
    "print(chat_completion)\n",
    "print(chat_completion.model_dump_json(indent=2))\n"
   ]
  },
  {
   "cell_type": "code",
   "execution_count": 22,
   "metadata": {},
   "outputs": [],
   "source": [
    "chat_completion = client.chat.completions.create(\n",
    "    messages=conversation.messages,\n",
    "    model=MODEL,\n",
    ")"
   ]
  },
  {
   "cell_type": "code",
   "execution_count": 23,
   "metadata": {},
   "outputs": [
    {
     "data": {
      "text/plain": [
       "\"Metalheadz is a drum and bass record label that was founded in 1994 by drum and bass pioneers, Goldie (Clifford Joseph Price) and Kemistry (Kemi Olusanya). It emerged during a time when drum and bass music was gaining popularity in the UK.\\n\\nThe label quickly made a name for itself by releasing influential and groundbreaking music from some of the genre's most talented artists. Metalheadz became known for its innovative and diverse sound, characterized by heavy basslines, intricate drum patterns, and the fusion of different musical elements.\\n\\nMetalheadz played a crucial role in shaping the drum and bass scene, with its releases pushing the boundaries of what was considered possible within the genre. The label fostered a strong sense of community among its artists and fans, organizing regular events and club nights that became renowned for their electric atmosphere.\\n\\nOver the years, Metalheadz has released critically acclaimed singles, EPs, and albums by artists such as Dillinja, Photek, Doc Scott, Dom & Roland, and many others. The label has also worked with numerous emerging talent, nurturing the next generation of drum and bass artists.\\n\\nMetalheadz continues to be a driving force in the drum and bass scene to this day. It has evolved its sound and expanded its roster to include a diverse range of artists, while still staying true to its roots. The label's dedication to quality and innovation has solidified its reputation as one of the most respected and influential labels in the genre.\""
      ]
     },
     "execution_count": 23,
     "metadata": {},
     "output_type": "execute_result"
    }
   ],
   "source": [
    "chat_completion.choices[0].message.content"
   ]
  },
  {
   "cell_type": "markdown",
   "metadata": {},
   "source": [
    "Import and test the openai_api chat completions calling functionality"
   ]
  },
  {
   "cell_type": "code",
   "execution_count": 24,
   "metadata": {},
   "outputs": [],
   "source": [
    "# import call_chat_completions and test with the default retry limits\n",
    "from openai_api import call_chat_completions\n",
    "\n",
    "content, response = call_chat_completions(conversation.messages, model=MODEL, client=client, return_response=True, max_retries=2)"
   ]
  },
  {
   "cell_type": "code",
   "execution_count": 27,
   "metadata": {},
   "outputs": [
    {
     "name": "stdout",
     "output_type": "stream",
     "text": [
      "Metalheadz is a renowned record label and collective that emerged in the early 1990s, playing a significant role in the development and popularization of drum and bass music. It was founded in London, United Kingdom, by DJ and producer Gold\n",
      "{\n",
      "  \"id\": \"chatcmpl-8Sr65Hj7A94lVhhjtqpSFcb9AkqKy\",\n",
      "  \"choices\": [\n",
      "    {\n",
      "      \"finish_reason\": \"length\",\n",
      "      \"index\": 0,\n",
      "      \"message\": {\n",
      "        \"content\": \"Metalheadz is a prominent drum and bass record label that was founded in 1994 by drum and bass pioneers Goldie and Kemistry & Storm. The label played a crucial role in shaping and popularizing the drum and bass genre.\\n\\nMetalhead\",\n",
      "        \"role\": \"assistant\",\n",
      "        \"function_call\": null,\n",
      "        \"tool_calls\": null\n",
      "      }\n",
      "    }\n",
      "  ],\n",
      "  \"created\": 1701887981,\n",
      "  \"model\": \"gpt-3.5-turbo-0613\",\n",
      "  \"object\": \"chat.completion\",\n",
      "  \"system_fingerprint\": null,\n",
      "  \"usage\": {\n",
      "    \"completion_tokens\": 50,\n",
      "    \"prompt_tokens\": 28,\n",
      "    \"total_tokens\": 78\n",
      "  }\n",
      "}\n"
     ]
    }
   ],
   "source": [
    "print(content)\n",
    "print(response.model_dump_json(indent=2))"
   ]
  }
 ],
 "metadata": {
  "kernelspec": {
   "display_name": "llms",
   "language": "python",
   "name": "python3"
  },
  "language_info": {
   "codemirror_mode": {
    "name": "ipython",
    "version": 3
   },
   "file_extension": ".py",
   "mimetype": "text/x-python",
   "name": "python",
   "nbconvert_exporter": "python",
   "pygments_lexer": "ipython3",
   "version": "3.11.6"
  }
 },
 "nbformat": 4,
 "nbformat_minor": 2
}
