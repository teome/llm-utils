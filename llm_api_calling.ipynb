{
 "cells": [
  {
   "cell_type": "markdown",
   "metadata": {},
   "source": [
    "# Experiment and test methods for calling LLM APIs\n",
    "\n",
    "Including:\n",
    "- Helper classes for messages and conversations\n",
    "- Using OpenAI and other libraries wrapping calls\n",
    "- Using requests library to more directly make HTTP, JSON, API calls\n",
    "- Running local models and simply feeding in text interactively"
   ]
  },
  {
   "cell_type": "markdown",
   "metadata": {},
   "source": [
    "## OpenAI lib with messages and Conversation class"
   ]
  },
  {
   "cell_type": "code",
   "execution_count": 1,
   "metadata": {},
   "outputs": [],
   "source": [
    "import json\n",
    "import os\n",
    "import sys\n",
    "import openai\n"
   ]
  },
  {
   "cell_type": "code",
   "execution_count": 55,
   "metadata": {},
   "outputs": [
    {
     "data": {
      "text/plain": [
       "True"
      ]
     },
     "execution_count": 55,
     "metadata": {},
     "output_type": "execute_result"
    }
   ],
   "source": [
    "from dotenv import load_dotenv\n",
    "load_dotenv()"
   ]
  },
  {
   "cell_type": "code",
   "execution_count": 3,
   "metadata": {},
   "outputs": [],
   "source": [
    "MODEL = \"gpt-3.5-turbo\""
   ]
  },
  {
   "cell_type": "code",
   "execution_count": 4,
   "metadata": {},
   "outputs": [],
   "source": [
    "from conversation import Conversation, get_conv_template, register_conv_template"
   ]
  },
  {
   "cell_type": "code",
   "execution_count": 5,
   "metadata": {},
   "outputs": [
    {
     "name": "stdout",
     "output_type": "stream",
     "text": [
      "\u001b[93msystem:\u001b[0m You are Samantha, a helpful, friendly, funny and highly knowledgeable assistant.\n",
      "\u001b[39muser:\u001b[0m What is the history of the Metalheadz label?\n",
      "\n",
      "\n",
      "<|im_start|>system\n",
      "You are Samantha, a helpful, friendly, funny and highly knowledgeable assistant.<|im_end|>\n",
      "<|im_start|>user\n",
      "What is the history of the Metalheadz label?<|im_end|>\n",
      "<|im_start|>assistant\n",
      "\n"
     ]
    }
   ],
   "source": [
    "initial_messages = [\n",
    "    {\"role\": \"system\", \"content\": \"You are Samantha, a helpful, friendly, funny and highly knowledgeable assistant.\"},\n",
    "    {\"role\": \"user\", \"content\": \"What is the history of the Metalheadz label?\"}\n",
    "]\n",
    "\n",
    "conv = get_conv_template(\"chatml\")\n",
    "conv.append_messages(initial_messages)\n",
    "conv.display_conversation()\n",
    "print('\\n\\n' + conv.get_prompt())"
   ]
  },
  {
   "cell_type": "code",
   "execution_count": 6,
   "metadata": {},
   "outputs": [],
   "source": [
    "client = openai.OpenAI()\n",
    "\n",
    "chat_completion = client.chat.completions.create(\n",
    "    messages=conv.messages,\n",
    "    model=MODEL,\n",
    ")"
   ]
  },
  {
   "cell_type": "code",
   "execution_count": 19,
   "metadata": {},
   "outputs": [
    {
     "data": {
      "text/plain": [
       "{'id': 'chatcmpl-8XSwkEasjYNwOeGF29eivrMysAkku',\n",
       " 'choices': [{'finish_reason': 'stop',\n",
       "   'index': 0,\n",
       "   'message': {'content': 'Metalheadz is a drum and bass record label that was founded in 1994 by the legendary DJ and producer, Goldie. It emerged during the golden era of drum and bass in the UK and quickly became one of the most influential and respected labels in the genre.\\n\\nGoldie, along with a group of like-minded artists, wanted to create a platform for this groundbreaking style of electronic music to thrive. Metalheadz became instrumental in shaping the drum and bass scene, pushing boundaries and setting new standards for production and creativity.\\n\\nFrom its inception, Metalheadz has been known for its commitment to quality and innovation. The label released music from a diverse roster of artists including Goldie himself, as well as artists like Dillinja, J Majik, Doc Scott, and many more. Metalheadz was at the forefront of the drum and bass movement, consistently releasing cutting-edge tunes that pushed the boundaries of the genre.\\n\\nIn addition to the music, Metalheadz also became famous for its iconic label artwork, featuring the distinctive \"Rider Girl\" logo created by Goldie himself. This logo has become synonymous with the label and remains an instantly recognizable symbol of the Metalheadz brand.\\n\\nOver the years, Metalheadz has continued to evolve and stay relevant in the ever-changing music landscape. The label has been responsible for numerous classic releases and has helped launch the careers of many talented artists.\\n\\nToday, Metalheadz remains one of the most respected labels in the drum and bass scene, continuing to release exceptional music and pushing the boundaries of the genre. Its rich history and ongoing dedication to quality have solidified Metalheadz as an integral part of the drum and bass legacy.',\n",
       "    'role': 'assistant'},\n",
       "   'logprobs': None}],\n",
       " 'created': 1702986786,\n",
       " 'model': 'gpt-3.5-turbo-0613',\n",
       " 'object': 'chat.completion',\n",
       " 'system_fingerprint': None,\n",
       " 'usage': {'completion_tokens': 338, 'prompt_tokens': 37, 'total_tokens': 375}}"
      ]
     },
     "execution_count": 19,
     "metadata": {},
     "output_type": "execute_result"
    }
   ],
   "source": [
    "# create a dict from the chat_completion object\n",
    "chat_completion_dict = chat_completion.model_dump()\n",
    "chat_completion_dict"
   ]
  },
  {
   "cell_type": "code",
   "execution_count": 21,
   "metadata": {},
   "outputs": [
    {
     "name": "stdout",
     "output_type": "stream",
     "text": [
      "{\n",
      "  \"id\": \"chatcmpl-8XSwkEasjYNwOeGF29eivrMysAkku\",\n",
      "  \"choices\": [\n",
      "    {\n",
      "      \"finish_reason\": \"stop\",\n",
      "      \"index\": 0,\n",
      "      \"message\": {\n",
      "        \"content\": \"Metalheadz is a drum and bass record label that was founded in 1994 by the legendary DJ and producer, Goldie. It emerged during the golden era of drum and bass in the UK and quickly became one of the most influential and respected labels in the genre.\\n\\nGoldie, along with a group of like-minded artists, wanted to create a platform for this groundbreaking style of electronic music to thrive. Metalheadz became instrumental in shaping the drum and bass scene, pushing boundaries and setting new standards for production and creativity.\\n\\nFrom its inception, Metalheadz has been known for its commitment to quality and innovation. The label released music from a diverse roster of artists including Goldie himself, as well as artists like Dillinja, J Majik, Doc Scott, and many more. Metalheadz was at the forefront of the drum and bass movement, consistently releasing cutting-edge tunes that pushed the boundaries of the genre.\\n\\nIn addition to the music, Metalheadz also became famous for its iconic label artwork, featuring the distinctive \\\"Rider Girl\\\" logo created by Goldie himself. This logo has become synonymous with the label and remains an instantly recognizable symbol of the Metalheadz brand.\\n\\nOver the years, Metalheadz has continued to evolve and stay relevant in the ever-changing music landscape. The label has been responsible for numerous classic releases and has helped launch the careers of many talented artists.\\n\\nToday, Metalheadz remains one of the most respected labels in the drum and bass scene, continuing to release exceptional music and pushing the boundaries of the genre. Its rich history and ongoing dedication to quality have solidified Metalheadz as an integral part of the drum and bass legacy.\",\n",
      "        \"role\": \"assistant\",\n",
      "        \"function_call\": null,\n",
      "        \"tool_calls\": null\n",
      "      },\n",
      "      \"logprobs\": null\n",
      "    }\n",
      "  ],\n",
      "  \"created\": 1702986786,\n",
      "  \"model\": \"gpt-3.5-turbo-0613\",\n",
      "  \"object\": \"chat.completion\",\n",
      "  \"system_fingerprint\": null,\n",
      "  \"usage\": {\n",
      "    \"completion_tokens\": 338,\n",
      "    \"prompt_tokens\": 37,\n",
      "    \"total_tokens\": 375\n",
      "  }\n",
      "}\n"
     ]
    }
   ],
   "source": [
    "print(chat_completion.model_dump_json(indent=2))"
   ]
  },
  {
   "cell_type": "code",
   "execution_count": 25,
   "metadata": {},
   "outputs": [
    {
     "name": "stdout",
     "output_type": "stream",
     "text": [
      "\u001b[93msystem:\u001b[0m You are Samantha, a helpful, friendly, funny and highly knowledgeable assistant.\n",
      "\u001b[39muser:\u001b[0m What is the history of the Metalheadz label?\n",
      "\u001b[94massistant:\u001b[0m Metalheadz is a drum and bass record label that was founded in 1994 by the legendary DJ and producer, Goldie. It emerged during the golden era of drum and bass in the UK and quickly became one of the most influential and respected labels in the genre.\n",
      "\n",
      "Goldie, along with a group of like-minded artists, wanted to create a platform for this groundbreaking style of electronic music to thrive. Metalheadz became instrumental in shaping the drum and bass scene, pushing boundaries and setting new standards for production and creativity.\n",
      "\n",
      "From its inception, Metalheadz has been known for its commitment to quality and innovation. The label released music from a diverse roster of artists including Goldie himself, as well as artists like Dillinja, J Majik, Doc Scott, and many more. Metalheadz was at the forefront of the drum and bass movement, consistently releasing cutting-edge tunes that pushed the boundaries of the genre.\n",
      "\n",
      "In addition to the music, Metalheadz also became famous for its iconic label artwork, featuring the distinctive \"Rider Girl\" logo created by Goldie himself. This logo has become synonymous with the label and remains an instantly recognizable symbol of the Metalheadz brand.\n",
      "\n",
      "Over the years, Metalheadz has continued to evolve and stay relevant in the ever-changing music landscape. The label has been responsible for numerous classic releases and has helped launch the careers of many talented artists.\n",
      "\n",
      "Today, Metalheadz remains one of the most respected labels in the drum and bass scene, continuing to release exceptional music and pushing the boundaries of the genre. Its rich history and ongoing dedication to quality have solidified Metalheadz as an integral part of the drum and bass legacy.\n"
     ]
    }
   ],
   "source": [
    "completion_message = chat_completion.choices[0].message.model_dump(exclude_unset=True)\n",
    "conv.append_message(completion_message)\n",
    "\n",
    "conv.display_conversation()"
   ]
  },
  {
   "cell_type": "code",
   "execution_count": 38,
   "metadata": {},
   "outputs": [],
   "source": [
    "conv.append_message({\"role\": \"user\", \"content\": \"Recommend some similar labels putting out music recently?\"})"
   ]
  },
  {
   "cell_type": "code",
   "execution_count": 39,
   "metadata": {},
   "outputs": [],
   "source": [
    "chat_completion = client.chat.completions.create(\n",
    "    messages=conv.messages,\n",
    "    model=MODEL,\n",
    ")"
   ]
  },
  {
   "cell_type": "code",
   "execution_count": 41,
   "metadata": {},
   "outputs": [
    {
     "name": "stdout",
     "output_type": "stream",
     "text": [
      "Absolutely! Here are a few labels that have been putting out excellent drum and bass music recently:\n",
      "\n",
      "1. Hospital Records: Hospital Records is a renowned British label that has been at the forefront of the drum and bass scene for years. They consistently release high-quality music from a diverse range of artists, with a focus on melodic and soulful sounds.\n",
      "\n",
      "2. Critical Music: Critical Music is a label known for its cutting-edge and forward-thinking approach to drum and bass. They specialize in innovative and experimental sounds, pushing the boundaries of the genre and featuring artists like Mefjus, Halogenix, and Kasra.\n",
      "\n",
      "3. RAM Records: RAM Records is one of the longest-running and most respected drum and bass labels. Founded by Andy C and known for its energetic and dancefloor-friendly releases, RAM Records continues to thrive and champion the genre with artists like Sub Focus, Wilkinson, and Culture Shock.\n",
      "\n",
      "4. Shogun Audio: Shogun Audio is a label known for its diverse roster of artists, ranging from liquid to heavy, bass-driven drum and bass. They consistently release music that spans the spectrum of the genre, providing something for every drum and bass enthusiast.\n",
      "\n",
      "5. Metalheadz: Of course, we can't forget about Metalheadz, which is still going strong today! With a rich history and a commitment to quality, Metalheadz continues to release exceptional drum and bass music from both established and up-and-coming artists.\n",
      "\n",
      "These are just a few examples, but there are many other fantastic drum and bass labels out there. Exploring these labels will give you a great taste of the diverse and exciting sounds within the drum and bass genre.\n"
     ]
    }
   ],
   "source": [
    "print(chat_completion.choices[0].message.content)"
   ]
  },
  {
   "cell_type": "markdown",
   "metadata": {},
   "source": [
    "Import and test the openai_api chat completions calling functionality"
   ]
  },
  {
   "cell_type": "code",
   "execution_count": 86,
   "metadata": {},
   "outputs": [
    {
     "data": {
      "text/plain": [
       "<module 'endpoint_utils' from '/home/dom/projects/ai/llms/llm-utils/endpoint_utils.py'>"
      ]
     },
     "execution_count": 86,
     "metadata": {},
     "output_type": "execute_result"
    }
   ],
   "source": [
    "import importlib\n",
    "import endpoint_utils\n",
    "# Reload the endpoint_utils module\n",
    "importlib.reload(endpoint_utils)\n"
   ]
  },
  {
   "cell_type": "code",
   "execution_count": 52,
   "metadata": {},
   "outputs": [],
   "source": [
    "# import the chat completion creation functionality from endpoint_utils and test on conversation messages\n",
    "from endpoint_utils import openai_chat_completions_create\n",
    "\n",
    "content, response = openai_chat_completions_create(conv.messages, model=MODEL, client=client, return_response=True, max_retries=2)"
   ]
  },
  {
   "cell_type": "code",
   "execution_count": 54,
   "metadata": {},
   "outputs": [
    {
     "name": "stdout",
     "output_type": "stream",
     "text": [
      "Certainly! Here are a few labels that are known for putting out great drum and bass music recently:\n",
      "\n",
      "1. Hospital Records: Founded by London Elektricity in 1996, Hospital Records is one of the most recognizable and influential drum and bass labels. They consistently release high-quality music across the spectrum of drum and bass, with a focus on melodic and soulful sounds.\n",
      "\n",
      "2. Critical Music: Founded by Kasra in 2002, Critical Music is renowned for its forward-thinking and cutting-edge drum and bass releases. They have a reputation for pushing boundaries and releasing tracks that challenge the status quo of the genre.\n",
      "\n",
      "3. RAM Records: Established by Andy C and Ant Miles in 1992, RAM Records has played a significant role in shaping the drum and bass scene. Known for its hard-hitting and energetic releases, RAM Records continues to showcase some of the best talent in the genre.\n",
      "\n",
      "4. Dispatch Recordings: Founded by Ant TC1 in 2001, Dispatch Recordings focuses on releasing deep, dark, and atmospheric drum and bass. The label has a strong roster of artists who consistently deliver quality releases.\n",
      "\n",
      "5. Shogun Audio: Shogun Audio, founded by Friction in 2004, is a label that covers a wide range of drum and bass styles, from liquid to neurofunk. They have a reputation for signing both established artists and emerging talent, making them a great label to discover new music.\n",
      "\n",
      "These are just a few of the many labels out there, but they should give you a good starting point for exploring recent drum and bass releases. Happy listening!\n",
      "{\n",
      "  \"id\": \"chatcmpl-8XTOCAj7dBBAFEEJwAYbnLTaAG6Pw\",\n",
      "  \"choices\": [\n",
      "    {\n",
      "      \"finish_reason\": \"stop\",\n",
      "      \"index\": 0,\n",
      "      \"message\": {\n",
      "        \"content\": \"Certainly! Here are a few labels that are known for putting out great drum and bass music recently:\\n\\n1. Hospital Records: Founded by London Elektricity in 1996, Hospital Records is one of the most recognizable and influential drum and bass labels. They consistently release high-quality music across the spectrum of drum and bass, with a focus on melodic and soulful sounds.\\n\\n2. Critical Music: Founded by Kasra in 2002, Critical Music is renowned for its forward-thinking and cutting-edge drum and bass releases. They have a reputation for pushing boundaries and releasing tracks that challenge the status quo of the genre.\\n\\n3. RAM Records: Established by Andy C and Ant Miles in 1992, RAM Records has played a significant role in shaping the drum and bass scene. Known for its hard-hitting and energetic releases, RAM Records continues to showcase some of the best talent in the genre.\\n\\n4. Dispatch Recordings: Founded by Ant TC1 in 2001, Dispatch Recordings focuses on releasing deep, dark, and atmospheric drum and bass. The label has a strong roster of artists who consistently deliver quality releases.\\n\\n5. Shogun Audio: Shogun Audio, founded by Friction in 2004, is a label that covers a wide range of drum and bass styles, from liquid to neurofunk. They have a reputation for signing both established artists and emerging talent, making them a great label to discover new music.\\n\\nThese are just a few of the many labels out there, but they should give you a good starting point for exploring recent drum and bass releases. Happy listening!\",\n",
      "        \"role\": \"assistant\",\n",
      "        \"function_call\": null,\n",
      "        \"tool_calls\": null\n",
      "      },\n",
      "      \"logprobs\": null\n",
      "    }\n",
      "  ],\n",
      "  \"created\": 1702988488,\n",
      "  \"model\": \"gpt-3.5-turbo-0613\",\n",
      "  \"object\": \"chat.completion\",\n",
      "  \"system_fingerprint\": null,\n",
      "  \"usage\": {\n",
      "    \"completion_tokens\": 325,\n",
      "    \"prompt_tokens\": 392,\n",
      "    \"total_tokens\": 717\n",
      "  }\n",
      "}\n"
     ]
    }
   ],
   "source": [
    "print(content)\n",
    "print(response.model_dump_json(indent=2))"
   ]
  },
  {
   "cell_type": "markdown",
   "metadata": {},
   "source": [
    "## Test TogetherAI API\n",
    "\n",
    "It's compatible with the openai lib, given that it uses something like chatml.\n",
    "Can test with both the lib and direct calls via HTTP"
   ]
  },
  {
   "cell_type": "markdown",
   "metadata": {},
   "source": [
    "First the library"
   ]
  },
  {
   "cell_type": "code",
   "execution_count": 58,
   "metadata": {},
   "outputs": [
    {
     "name": "stdout",
     "output_type": "stream",
     "text": [
      "Together response:\n",
      " Absolutely, I'd be happy to tell you about San Francisco! San Francisco is a vibrant and culturally rich city located on the west coast of the United States, in the state of California. It's known for its steep hills, beautiful views, and iconic landmarks.\n",
      "\n",
      "One of the most famous landmarks in San Francisco is the Golden Gate Bridge, a stunning suspension bridge that spans the Golden Gate Straight. Visitors can walk or bike across the bridge for breathtaking views of the city and the bay.\n",
      "\n",
      "San Francisco is also home to some of the country's most renowned museums, including the San Francisco Museum of Modern Art (SFMOMA) and the de Young Museum. The city is a hub for the arts, with a thriving theater scene, numerous galleries, and plenty of live music venues.\n",
      "\n",
      "Foodies will love exploring the city's diverse culinary scene, which features everything from world-class fine dining to casual street food. Be sure to try some of San Francisco's famous sourdough bread, fresh seafood, and farm-to-table cuisine.\n",
      "\n",
      "San Francisco is also known for its vibrant neighborhoods, each with its own unique character and charm. From the colorful street art of the Mission District to the historic homes of Pacific Heights, there's always something new to discover around every corner.\n",
      "\n",
      "Whether you're interested in history, art, food, or just soaking up the beautiful views, San Francisco has something for everyone. Let me know if you have any specific questions about the city or if you'd like help planning your trip!\n"
     ]
    }
   ],
   "source": [
    "system_content = \"You are a travel agent. Be descriptive and helpful.\"\n",
    "user_content = \"Tell me about San Francisco\"\n",
    "\n",
    "client = openai.OpenAI(\n",
    "    api_key=os.getenv(\"TOGETHER_API_KEY\"),\n",
    "    base_url=\"https://api.together.xyz/v1\",\n",
    "    )\n",
    "chat_completion = client.chat.completions.create(\n",
    "    model=\"mistralai/Mixtral-8x7B-Instruct-v0.1\",\n",
    "    messages=[\n",
    "        {\"role\": \"system\", \"content\": system_content},\n",
    "        {\"role\": \"user\", \"content\": user_content},\n",
    "    ],\n",
    "    temperature=0.7,\n",
    "    max_tokens=1024,\n",
    ")\n",
    "response = chat_completion.choices[0].message.content\n",
    "print(\"Together response:\\n\", response)"
   ]
  },
  {
   "cell_type": "code",
   "execution_count": 59,
   "metadata": {},
   "outputs": [],
   "source": [
    "TOGETHER_MODEL = \"mistralai/Mixtral-8x7B-Instruct-v0.1\""
   ]
  },
  {
   "cell_type": "code",
   "execution_count": 60,
   "metadata": {},
   "outputs": [],
   "source": [
    "content, response = openai_chat_completions_create(conv.messages, model=TOGETHER_MODEL, client=client, return_response=True, max_retries=2)"
   ]
  },
  {
   "cell_type": "code",
   "execution_count": 61,
   "metadata": {},
   "outputs": [
    {
     "name": "stdout",
     "output_type": "stream",
     "text": [
      "Together response:\n",
      " Certainly! While Metalheadz is undoubtedly an iconic label with a rich history, there are numerous other labels that have recently been putting out fantastic drum and bass music. Here are some of the top labels that you should know about:\n",
      "\n",
      "1. Critical Music: Founded in 2002 by Kasra Mowlavi, Critical Music is a UK-based drum and bass label that is known for its consistently high-quality releases. Critical Music's roster includes some of the most respected names in the scene, such as Enei, Ivy Lab, and Hyroglifics, among others.\n",
      "2. Dispatch Recordings: Another prominent UK-based drum and bass label, Dispatch Recordings was founded in 2001 by Ant TC1, who had a vision of creating a platform for showcasing cutting-edge drum and bass music. Over the years, Dispatch has released music from many respected artists in the scene, such as dBridge, Skeptical, and DLR.\n",
      "3. Exit Records: Founded in 2003 by dBridge, Exit Records is known for its focus on innovation and experimentation in drum and bass music. The label has released music from a diverse range of artists, such as Dub Phizix, Calibre, and Alix Perez.\n",
      "4. Shogun Audio: Founded in 2004 by Friction and DJ Fresh, Shogun Audio is a UK-based drum and bass label that has released music from some of the biggest names in the scene, such as Icicle, Rockwell, and Spectrasoul.\n",
      "5. Soul:R: The sister label of Metalheadz, Soul:R was founded by Goldie in 1995 to release a more experimental and soulful style of drum and bass music. The label has released music from many esteemed artists, such as LTJ Bukem, Photek, and Commix.\n",
      "\n",
      "These are just a few of the many excellent drum and bass labels that are currently putting out great music. Each of these labels has its own unique style and sound, but all of them are committed to quality and innovation in their releases.\n"
     ]
    }
   ],
   "source": [
    "print(\"Together response:\\n\", content)"
   ]
  },
  {
   "cell_type": "code",
   "execution_count": 66,
   "metadata": {},
   "outputs": [
    {
     "name": "stdout",
     "output_type": "stream",
     "text": [
      "{\n",
      "  \"id\": \"837fa9cb4eab48ce-LHR\",\n",
      "  \"choices\": [\n",
      "    {\n",
      "      \"finish_reason\": null,\n",
      "      \"index\": null,\n",
      "      \"message\": {\n",
      "        \"content\": \"Certainly! While Metalheadz is undoubtedly an iconic label with a rich history, there are numerous other labels that have recently been putting out fantastic drum and bass music. Here are some of the top labels that you should know about:\\n\\n1. Critical Music: Founded in 2002 by Kasra Mowlavi, Critical Music is a UK-based drum and bass label that is known for its consistently high-quality releases. Critical Music's roster includes some of the most respected names in the scene, such as Enei, Ivy Lab, and Hyroglifics, among others.\\n2. Dispatch Recordings: Another prominent UK-based drum and bass label, Dispatch Recordings was founded in 2001 by Ant TC1, who had a vision of creating a platform for showcasing cutting-edge drum and bass music. Over the years, Dispatch has released music from many respected artists in the scene, such as dBridge, Skeptical, and DLR.\\n3. Exit Records: Founded in 2003 by dBridge, Exit Records is known for its focus on innovation and experimentation in drum and bass music. The label has released music from a diverse range of artists, such as Dub Phizix, Calibre, and Alix Perez.\\n4. Shogun Audio: Founded in 2004 by Friction and DJ Fresh, Shogun Audio is a UK-based drum and bass label that has released music from some of the biggest names in the scene, such as Icicle, Rockwell, and Spectrasoul.\\n5. Soul:R: The sister label of Metalheadz, Soul:R was founded by Goldie in 1995 to release a more experimental and soulful style of drum and bass music. The label has released music from many esteemed artists, such as LTJ Bukem, Photek, and Commix.\\n\\nThese are just a few of the many excellent drum and bass labels that are currently putting out great music. Each of these labels has its own unique style and sound, but all of them are committed to quality and innovation in their releases.\",\n",
      "        \"role\": \"assistant\",\n",
      "        \"function_call\": null,\n",
      "        \"tool_calls\": null\n",
      "      }\n",
      "    }\n",
      "  ],\n",
      "  \"created\": 1702989099,\n",
      "  \"model\": \"mistralai/Mixtral-8x7B-Instruct-v0.1\",\n",
      "  \"object\": \"chat.completion\",\n",
      "  \"system_fingerprint\": null,\n",
      "  \"usage\": {\n",
      "    \"completion_tokens\": 475,\n",
      "    \"prompt_tokens\": 437,\n",
      "    \"total_tokens\": 912\n",
      "  }\n",
      "}\n"
     ]
    }
   ],
   "source": [
    "print(response.model_dump_json(indent=2))"
   ]
  },
  {
   "cell_type": "markdown",
   "metadata": {},
   "source": [
    "HTTP via requests"
   ]
  },
  {
   "cell_type": "code",
   "execution_count": 87,
   "metadata": {},
   "outputs": [],
   "source": [
    "from endpoint_utils import rest_api_request"
   ]
  },
  {
   "cell_type": "code",
   "execution_count": 77,
   "metadata": {},
   "outputs": [],
   "source": [
    "json_data = dict(\n",
    "    messages=conv.messages,\n",
    "    model=TOGETHER_MODEL,\n",
    "    temperature=0.8,\n",
    "    max_tokens=1024,\n",
    ")\n",
    "\n",
    "response = rest_api_request(\n",
    "    url=\"https://api.together.xyz/v1/completions\",\n",
    "    api_key=os.getenv(\"TOGETHER_API_KEY\"),\n",
    "    json_data=json_data,\n",
    ")\n",
    "\n",
    "response = response.json()"
   ]
  },
  {
   "cell_type": "markdown",
   "metadata": {},
   "source": [
    "Note that the response from together via the HTTP api doesn't have the same format for the `response.choices[0].messages.content` but instead gives `response.choices[0].text` directly without the role or anything else.\n",
    "\n",
    "I suspect this will change as they integrate function calling and output specs etc. (c.f anyscale that already has json output and json spec as options and a more complete output)"
   ]
  },
  {
   "cell_type": "code",
   "execution_count": 82,
   "metadata": {},
   "outputs": [
    {
     "name": "stdout",
     "output_type": "stream",
     "text": [
      "There are several drum and bass labels out there that share the same ethos and commitment to innovation as Metalheadz. Here are some of the labels that have been putting out great music recently:\n",
      "\n",
      "1. Critical Music: Founded by Kasra in 2002, Critical Music is one of the leading drum and bass labels in the UK. Known for its high-quality, forward-thinking releases, Critical Music has consistently delivered an impressive catalog of music from a diverse range of artists.\n",
      "\n",
      "2. Exit Records: Run by dBridge, Exit Records is a label that has been a significant part of the drum and bass scene for over a decade. The label has a reputation for releasing deep and experimental music that explores the more abstract side of the genre.\n",
      "\n",
      "3. Dispatch Recordings: Founded in 2001 by Ant TC1, Dispatch Recordings is a drum and bass label that specializes in pushing the boundaries of the genre. With a focus on quality and forward-thinking music, Dispatch has become one of the most respected and influential labels in the scene.\n",
      "\n",
      "4. Shogun Audio: Established in 2004 by Friction and K-Tee, Shogun Audio is a drum and bass label that has consistently released an impressive catalog of music from a wide range of artists. Known for its high-quality and innovative releases, Shogun Audio has become one of the most respected and influential labels in the scene.\n",
      "\n",
      "5. Soul:R: This label was started by Marcus Intalex in 1998 and has since become a staple in the drum and bass community. Although the label has been put on hold due to Marcus' passing in 2017, the music and legacy he left behind still resonate in the drum and bass scene.\n",
      "\n",
      "6. Ingredients Records: A label that has been pushing the boundaries of drum and bass since 1998, Ingredients Records has produced some of the most intricate and genre-defying releases in the scene. With a wide range of artists and a commitment to innovation, Ingredients Records remains a vital and influential force in the drum and bass world.\n",
      "\n",
      "These are just a few of the many labels that are putting out great music regularly, and I would highly recommend checking out each of them for their unique takes on the drum and bass genre.\n"
     ]
    }
   ],
   "source": [
    "print(response[\"choices\"][0][\"text\"])"
   ]
  },
  {
   "cell_type": "markdown",
   "metadata": {},
   "source": [
    "Using the inference API, can we get base model compatability"
   ]
  },
  {
   "cell_type": "code",
   "execution_count": 119,
   "metadata": {},
   "outputs": [],
   "source": [
    "# note the different json data: messaages -> prompt\n",
    "json_data = dict(\n",
    "    prompt=\"\"\"\\\n",
    "QUESTION:\n",
    "As an expert in electronic music history, tell me about the history of the Metalheadz label.\n",
    "\n",
    "ANSWER:\n",
    "\"\"\",\n",
    "    model=\"mistralai/Mixtral-8x7B-v0.1\",\n",
    "    temperature=0.8,\n",
    "    max_tokens=1024,\n",
    "    repetition_penalty=1.2,\n",
    ")\n",
    "\n",
    "response = rest_api_request(\n",
    "    url=\"https://api.together.xyz/inference\",\n",
    "    api_key=os.getenv(\"TOGETHER_API_KEY\"),\n",
    "    json_data=json_data,\n",
    ")\n",
    "\n",
    "response = response.json()"
   ]
  },
  {
   "cell_type": "code",
   "execution_count": 120,
   "metadata": {},
   "outputs": [
    {
     "name": "stdout",
     "output_type": "stream",
     "text": [
      "QUESTION:\n",
      "As an expert in electronic music history, tell me about the history of the Metalheadz label.\n",
      "\n",
      "ANSWER:\n",
      " \n",
      "\n",
      "\n",
      "There is a lineage to Metalheadz that I think is important to stress here. Everybody knows Goldie and Kemistry & Storm from way back when, so it’s a great place for this tale to begin. But let me take you as far back as 1987 with all my Sinister DJ dates on pirate radio. You see, I had a crew called Sinister — me, DJ Phantasy and MC Fats — and we used to go around playing at all the illegal raves (Camelot, Biology, Fantasia, Rave FM) and also doing pirate radio. We were all doing normal jobs at the time, but we were all really into this music. So one day I got this call saying “do you want to come and play at Genesis?” I was like wow! Genesis was incredible — it was unbelievable! It went on forever, it was just an amazing rave. And then after that we started doing more pirate radio, and kiddy raves… just doing whatever we could do without getting caught. That’s when Goldie started out as a DJ too – so we go way back!\n",
      "\n",
      "I bumped into Steve [Goldie] at a club called Maximus in East London about ‘92 and he said “Darren, I’m gonna be doing a hip-hop label and I wanna make a tune.” This was his first ever Vinyl release and it was with a guy called Chris who lived next door to him, and Dizzy for the scratches. They made three tunes together which resulted in the “Smokescreen” EP. I did some turntable cuts over those tracks, you know, records scratched in. He loved them so much that he put them on the release. To be honest though the tunes were quite weak, but they still managed to sell like crazy! Before this he didn’t know anything about production or engineering or even EQ-ing, so I took him under my wing and taught him everything there was to know about how to do his own thing. In return, due to our friendship, I asked Steve to help me with my own project, a label I was working on called Aries. He loved what I was doing, and decided to help reach the audience that I wanted to reach.\n",
      "\n",
      "Anyway – back to Metalheadz. The first track we worked on was KJK [“Terminator”], a tune that was made by John Jones, one of the guys who wrote/engineered “Heaven and Earth,” which was Goldie’s first track. That was done at Rupert Parkes’ [the artist Photek] studio. They ran the record labels FFRR and Dedicated and kept Rupert, Goldie, and myself in a little room full of keyboards and a bunch of analogue equipment including tape machines and 16 channels per track. I had my 3001 reverb unit at home that I’d bought off Brian Eno which Goldie would borrow from time to time. I had a lot of equipment and could work it, because of my background in audio engineering you see. Goldie would bounce his tunes around my house and I’d make them sound good, and he would stay there until 6am every morning working on his music. He said to himself “fuck this, I’m going to bring everybody who can make things sound better than they do themselves over to my house and get them to make stuff right now!” There wasn’t anything else out at this time like this. What he was doing was new.\n",
      "\n",
      "Around this time I played him some drums at Ableton Live and Goldie said “Wow! What are these drums? Where does that shit come from?! I have never heard anything like it before – it’s fucking good!” I said “Well, it’s been around for a few years,” but since he saw I was always pushing the boundaries he added it to his new label, Metalheadz, as the first two releases – “Angels Fell” and “Terminator”… and the rest is history. Can you imagine being able to make this unique sound like that back then? It was amazing. Previously that kind of stuff was only heard in the studio with pro audio equipment running through a desk — not on a computer screen. Having a computer makes this stuff run for real. We’ll talk more later about this.\n",
      "\n",
      "The other big move for us was when we did a demo tape — and it wasn’t actually a tape, but a floppy disk — and they played it on Kiss FM. Back then you had to send in your demo CD or tape on a box and they would send out a runner to go and collect it. One day Steve told them “nah just bring me a floppy\n"
     ]
    }
   ],
   "source": [
    "print(response[\"prompt\"][0], '\\n\\n')\n",
    "print(response[\"output\"][\"choices\"][0][\"text\"])"
   ]
  },
  {
   "cell_type": "code",
   "execution_count": 131,
   "metadata": {},
   "outputs": [],
   "source": [
    "# note the different json data: messaages -> prompt\n",
    "json_data = dict(\n",
    "    prompt=\"\"\"\\\n",
    "I've studied the history of the Metalheadz label. Here's what I know. \\\n",
    "\"\"\",\n",
    "    model=\"mistralai/Mixtral-8x7B-v0.1\",\n",
    "    temperature=0.8,\n",
    "    max_tokens=1024,\n",
    "    repetition_penalty=1.2,\n",
    ")\n",
    "\n",
    "response = rest_api_request(\n",
    "    url=\"https://api.together.xyz/inference\",\n",
    "    api_key=os.getenv(\"TOGETHER_API_KEY\"),\n",
    "    json_data=json_data,\n",
    ")\n",
    "\n",
    "response = response.json()"
   ]
  },
  {
   "cell_type": "code",
   "execution_count": 132,
   "metadata": {},
   "outputs": [
    {
     "name": "stdout",
     "output_type": "stream",
     "text": [
      "I've studied the history of the Metalheadz label. Here's what I know.  \n",
      "\n",
      "\n",
      "10 years ago, when there was a glut of drum and bass records flooding into every shop in the world, Goldie decided to do something different with his label: he wanted to take it all back underground. One way of doing this was to change the way the records sounded: instead of keeping to the same formulae as everyone else, Metalheadz went for a more minimal, atmospheric vibe that was low on flashy production and high on soul. Even more prominant was the way Goldie altered the release schedule of the label, only putting out one or two releases at a time before making everyone stop and wait until the next record came along. Release dates were announced then changed, then scrapped altogether. It wasn't uncommon for Metalheadz releases to slowly build up into batches of 5 or so; all carefully timed so that they would get maximum attention from the public because each record became an event in itself. The entire drum n bass scene started to revolve around these releases in the same way that the early hip hop scene had been hypnotised by the 12\" releases on pioneering labels like Sugarhill and Tommy Boy. By 1996, Metalheadz success peaked with the release of the classic Platinum Breakz EP (a collection of brilliantly minimal Aphex Twin-inspired tracks) and Goldie's album Timeless. Goldie was now also a celebrity musician in the outside world who drew attention to the label and brought some much needed innovation to the world of drum n bass both commercially (with you sell out?) and artistically (with Timeless). Drum and Bass was now the biggest dance music genre. Metalheadz, being first out of the gates, were at its forefront.\n",
      "But then, just as things were getting really good, they hit a stumbling block. Before Goldie could finish producing his follow up album, \"Saturns Return\", he was offered a part in the movie \"The World Is Not Enough\" playing the role of a Bond villian (it's rumored that Bjork put him up for the part). He took it and the followup album was put on hold while he went off to make a movie. With no new material coming through on the Metalheadz front, the other labels on the scene started to put out more and more records, many fans started buying music again from labels like Innovation Records, and Goldie stopped being able to control the drum n bass scene with his releases. By the time Jill Dread left Metalheadz to set up her own label in 1998, the scene was already suffering under the weight of too many records and bands fighting over the rights to be heard. With his celebrity status thorugh the media, Goldie had become too successful for his own good. The Metalheadz machine started to lose momentum rapidly after 1997 and by the end of 1998, the label didn't even release any records anymore! In early 2001, I was still stuck in mourning for the halcyon days of Metalheadz. The label had been forgotten by most people and seemed to be lost forever. But then, all of a sudden, out of nowhere came the news: Goldie did finish his Saturnz Return album and Gilles Peterson was re-launching his Talking Loud label....and Metalheadz had a new home. Maybe the label might rise again?\n",
      "I don't think anyone expected the upcoming schedule to be as impressive as it has been though. As far as I can tell, Goldie is now free to release as many records as he likes without having to worry about the costs involved because Talking Loud will help him out financially. This means that more than ever, Metalheadz can get back to doing what it does best: controlling the scene by releasing one track at a time. In the past few months, we've seen more Metalheadz records come out than usual in a long time and unless my eyes are deceiving me, it looks like they have no intention of stopping anytime soon; if everything works out properly, maybe Golden will even be able to put out his full album for us...this time!\n",
      "So anyway, that brings us roughly up to date. Here's my loooong review of the new Metalheadz EP's:\n",
      "Artist: Back 2 Basics\n",
      "Title: Rebirth EP\n",
      "Label: Metalheadz/Talkin Loud\n",
      "Cat#: METH13\n",
      "Last month, Goldie teamed up with Malcolm Goldie (no relation) to produce two interesting tracks for their project Back 2 Basics. These tracks are now available on the METH13 EP along with another track called \"Metalheadz 4\".\n",
      "The first song \"Rebirth\n"
     ]
    }
   ],
   "source": [
    "print(response[\"prompt\"][0], '\\n\\n')\n",
    "print(response[\"output\"][\"choices\"][0][\"text\"])"
   ]
  },
  {
   "cell_type": "code",
   "execution_count": null,
   "metadata": {},
   "outputs": [],
   "source": []
  }
 ],
 "metadata": {
  "kernelspec": {
   "display_name": "llms",
   "language": "python",
   "name": "python3"
  },
  "language_info": {
   "codemirror_mode": {
    "name": "ipython",
    "version": 3
   },
   "file_extension": ".py",
   "mimetype": "text/x-python",
   "name": "python",
   "nbconvert_exporter": "python",
   "pygments_lexer": "ipython3",
   "version": "3.11.6"
  }
 },
 "nbformat": 4,
 "nbformat_minor": 2
}
