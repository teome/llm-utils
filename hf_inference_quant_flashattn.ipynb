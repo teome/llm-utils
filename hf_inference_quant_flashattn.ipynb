{
 "cells": [
  {
   "cell_type": "markdown",
   "metadata": {},
   "source": [
    "# HuggingFace LLM inference experiments\n",
    "\n",
    "- Compare inference options for quantisation and flash-atten\n",
    "- As of 01/2024 torch's built in sdpa attention impmenentation has flash-attention without the need for the external lib from Tri Dao (which can be a pain to install). But it's not currently implemented within HF for all models -- particularly there's no support for Mistral\n",
    "- So still need to use flash-atten lib for now to get flash-attention v2"
   ]
  },
  {
   "cell_type": "code",
   "execution_count": 1,
   "metadata": {},
   "outputs": [],
   "source": [
    "import json\n",
    "import os\n",
    "import sys\n",
    "import time\n",
    "from typing import List, Dict, Any"
   ]
  },
  {
   "cell_type": "code",
   "execution_count": 2,
   "metadata": {},
   "outputs": [],
   "source": [
    "sys.path.append(os.getcwd())"
   ]
  },
  {
   "cell_type": "code",
   "execution_count": 3,
   "metadata": {},
   "outputs": [
    {
     "data": {
      "text/plain": [
       "False"
      ]
     },
     "execution_count": 3,
     "metadata": {},
     "output_type": "execute_result"
    }
   ],
   "source": [
    "from dotenv import load_dotenv\n",
    "load_dotenv()"
   ]
  },
  {
   "cell_type": "code",
   "execution_count": 14,
   "metadata": {},
   "outputs": [
    {
     "name": "stdout",
     "output_type": "stream",
     "text": [
      "Token will not been saved to git credential helper. Pass `add_to_git_credential=True` if you want to set the git credential as well.\n",
      "Token is valid (permission: read).\n",
      "Your token has been saved to /home/dom/.cache/huggingface/token\n",
      "Login successful\n"
     ]
    }
   ],
   "source": [
    "!huggingface-cli login --token $HUGGINGFACE_TOKEN"
   ]
  },
  {
   "cell_type": "code",
   "execution_count": 40,
   "metadata": {},
   "outputs": [],
   "source": [
    "import gc\n",
    "\n",
    "def cleanup():\n",
    "    g_keys = globals().keys()\n",
    "    for k in g_keys:\n",
    "        if isinstance(globals()[k], torch.nn.Module):\n",
    "            globals()[k] = None\n",
    "        gc.collect()\n",
    "        torch.cuda.empty_cache()"
   ]
  },
  {
   "cell_type": "markdown",
   "metadata": {},
   "source": [
    "First just load Mistral model with no additional options -- would be just as easy to use their reference implementation but HF gives all the other options for quant etc so go with this"
   ]
  },
  {
   "cell_type": "code",
   "execution_count": 7,
   "metadata": {},
   "outputs": [
    {
     "name": "stderr",
     "output_type": "stream",
     "text": [
      "/opt/conda/lib/python3.10/site-packages/tqdm/auto.py:21: TqdmWarning: IProgress not found. Please update jupyter and ipywidgets. See https://ipywidgets.readthedocs.io/en/stable/user_install.html\n",
      "  from .autonotebook import tqdm as notebook_tqdm\n",
      "Loading checkpoint shards: 100%|██████████| 3/3 [01:18<00:00, 26.32s/it]\n"
     ]
    }
   ],
   "source": [
    "from transformers import AutoModelForCausalLM, AutoTokenizer\n",
    "import torch\n",
    "\n",
    "device = \"cuda\" # the device to load the model onto\n",
    "model_name = \"mistralai/Mistral-7B-Instruct-v0.2\"\n",
    "\n",
    "model = AutoModelForCausalLM.from_pretrained(\"mistralai/Mistral-7B-Instruct-v0.2\", torch_dtype=torch.float16, device_map=device)\n",
    "tokenizer = AutoTokenizer.from_pretrained(\"mistralai/Mistral-7B-Instruct-v0.2\")"
   ]
  },
  {
   "cell_type": "code",
   "execution_count": 8,
   "metadata": {},
   "outputs": [],
   "source": [
    "if tokenizer.pad_token is None:\n",
    "    tokenizer.pad_token = tokenizer.eos_token"
   ]
  },
  {
   "cell_type": "code",
   "execution_count": 10,
   "metadata": {},
   "outputs": [
    {
     "name": "stderr",
     "output_type": "stream",
     "text": [
      "Setting `pad_token_id` to `eos_token_id`:2 for open-end generation.\n"
     ]
    },
    {
     "name": "stdout",
     "output_type": "stream",
     "text": [
      "{'input_ids': tensor([[    1,   733, 16289, 28793,  1824,   349,   574, 16020,  2076,  2487,\n",
      "         28804,   733, 28748, 16289, 28793, 28705]], device='cuda:0'), 'attention_mask': tensor([[1, 1, 1, 1, 1, 1, 1, 1, 1, 1, 1, 1, 1, 1, 1, 1]], device='cuda:0')}\n",
      "tensor([[    1,   733, 16289, 28793,  1824,   349,   574, 16020,  2076,  2487,\n",
      "         28804,   733, 28748, 16289, 28793, 28705, 28737,   949, 28742, 28707,\n",
      "           506,   264,  6656,  2076,  2487,   390,   315,   949, 28742, 28707,\n",
      "         23327,  2887,   442,  2076,  8447, 28723,  2993, 28725,   315,   541,\n",
      "          1912,   368,   369,  1287,   905,  3555,  1413,  2076,  8447,   737,\n",
      "           446,  4455,   715, 28725,  1580,   488, 28725,   579, 28724, 16042,\n",
      "         28725,  3296, 16042, 28725,   993,  7136,   864, 28725,   304,  1016,\n",
      "           789,   298,   967, 16859,   304, 27764,   298,   652, 16423, 28723,\n",
      "             2]], device='cuda:0')\n",
      "[\"[INST] What is your favourite condiment? [/INST] I don't have a favorite condiment as I don't consume food or condiments. However, I can tell you that many people enjoy using condiments like ketchup, mustard, soy sauce, hot sauce, mayonnaise, and relish to add flavor and enhancement to their meals.\"]\n"
     ]
    }
   ],
   "source": [
    "prompt = \"[INST] What is your favourite condiment? [/INST] \"\n",
    "inputs = tokenizer(prompt, return_tensors=\"pt\").to(device)\n",
    "print(inputs)\n",
    "generated_ids = model.generate(**inputs, max_new_tokens=256, do_sample=True)\n",
    "print(generated_ids)\n",
    "outputs = tokenizer.batch_decode(generated_ids, skip_special_tokens=True)\n",
    "print(outputs)"
   ]
  },
  {
   "cell_type": "code",
   "execution_count": 11,
   "metadata": {},
   "outputs": [],
   "source": [
    "messages = [\n",
    "    {\"role\": \"user\", \"content\": \"How were the samples in the sp1200 encoded?\"},\n",
    "    {\"role\": \"assistant\", \"content\": \"The samples were encoded in 12-bit PCM.\"},\n",
    "    {\"role\": \"user\", \"content\": \"What could be done to improve the drum sounds?\"},\n",
    "]"
   ]
  },
  {
   "cell_type": "markdown",
   "metadata": {},
   "source": [
    "`apply_chat_template` doesn't return `attention_mask` which isn't really a problem here, but we can either generate it manually or first create a string, then tokenize -- this is advised against, but under the hood is probably what `apply_chat_template` is doing anyway...\n",
    "\n",
    "For llama and mistral, it's easy to use their implementation of sentencepiece tokenizer (see llm-utils for utility funcs)"
   ]
  },
  {
   "cell_type": "code",
   "execution_count": 19,
   "metadata": {},
   "outputs": [
    {
     "data": {
      "text/plain": [
       "{'input_ids': tensor([[    1,     1,   733, 16289, 28793,  1602,   654,   272, 11714,   297,\n",
       "           272,   668, 28740, 28750, 28734, 28734, 23174, 28804,   733, 28748,\n",
       "         16289, 28793,  1014, 11714,   654, 23174,   297, 28705, 28740, 28750,\n",
       "         28733,  2581,  9596, 28755, 28723,     2,   733, 16289, 28793,  1824,\n",
       "           829,   347,  2203,   298,  4916,   272, 16049,  7258, 28804,   733,\n",
       "         28748, 16289, 28793]], device='cuda:0'), 'attention_mask': tensor([[1, 1, 1, 1, 1, 1, 1, 1, 1, 1, 1, 1, 1, 1, 1, 1, 1, 1, 1, 1, 1, 1, 1, 1,\n",
       "         1, 1, 1, 1, 1, 1, 1, 1, 1, 1, 1, 1, 1, 1, 1, 1, 1, 1, 1, 1, 1, 1, 1, 1,\n",
       "         1, 1, 1, 1, 1]], device='cuda:0')}"
      ]
     },
     "execution_count": 19,
     "metadata": {},
     "output_type": "execute_result"
    }
   ],
   "source": [
    "# tokenizer.apply_chat_template(messages, add_generation_prompt=True, return_tensors=\"pt\")\n",
    "prompt = tokenizer.apply_chat_template(messages, add_generation_prompt=True, tokenize=False)\n",
    "inputs = tokenizer(prompt, return_tensors=\"pt\").to(device)\n",
    "inputs"
   ]
  },
  {
   "cell_type": "code",
   "execution_count": 20,
   "metadata": {},
   "outputs": [
    {
     "name": "stderr",
     "output_type": "stream",
     "text": [
      "Setting `pad_token_id` to `eos_token_id`:2 for open-end generation.\n"
     ]
    },
    {
     "name": "stdout",
     "output_type": "stream",
     "text": [
      "tensor([[    1,   733, 16289, 28793,  1602,   654,   272, 11714,   297,   272,\n",
      "           668, 28740, 28750, 28734, 28734, 23174, 28804,   733, 28748, 16289,\n",
      "         28793,  1014, 11714,   654, 23174,   297, 28705, 28740, 28750, 28733,\n",
      "          2581,  9596, 28755, 28723,     2,   733, 16289, 28793,  1824,   829,\n",
      "           347,  2203,   298,  4916,   272, 16049,  7258, 28804,   733, 28748,\n",
      "         16289, 28793]], device='cuda:0')\n",
      "[INST] How were the samples in the sp1200 encoded? [/INST]The samples were encoded in 12-bit PCM. [INST] What could be done to improve the drum sounds? [/INST] There are several ways to improve the drum sounds from an SP-1200 or any other digital sampler:\n",
      "\n",
      "1. Sample Replacement: Replace the original samples with higher quality versions. Better recordings or samples from better sounding sources can greatly improve the overall drum sound.\n",
      "2. Processing: Apply audio processing effects such as compression, equalization, distortion, and reverb to enhance the drum sounds. Compression can add punch and dynamics, while equalization can help bring out the frequencies that need attention. Distortion can add character and thickness, and reverb can add a sense of space.\n",
      "3. Sound Design: Use sound design techniques such as layering, filtering, and modifying the samples to create new sounds and textures. Layering sounds can add depth and complexity, while filtering can help focus on specific frequencies.\n",
      "4. Sequencing and Arrangement: Properly sequencing and arranging the drum samples can greatly improve the overall rhythm and feel of the track. Working with a good drum pattern and building the arrangement around it can help the drums sit better in the mix and support the rest of the music.\n",
      "5. Mixing: Properly mixing the drums with the rest of\n"
     ]
    }
   ],
   "source": [
    "# encodeds = tokenizer.apply_chat_template(messages, add_generation_prompt=True, tokenize=False)\n",
    "encodeds = tokenizer.apply_chat_template(messages, add_generation_prompt=True, return_tensors=\"pt\", ).to(device)\n",
    "print(encodeds)\n",
    "attention_mask = torch.ones_like(encodeds)\n",
    "generated_ids = model.generate(encodeds, attention_mask=attention_mask , max_new_tokens=256, do_sample=True)\n",
    "outputs = tokenizer.batch_decode(generated_ids, skip_special_tokens=True)\n",
    "print(outputs[0])"
   ]
  },
  {
   "cell_type": "markdown",
   "metadata": {},
   "source": [
    "same as above but without direct tokenization using the chat template...does make a minor difference to the tokenized output (no space after `\\]`) but can be more flexible"
   ]
  },
  {
   "cell_type": "code",
   "execution_count": 12,
   "metadata": {},
   "outputs": [
    {
     "name": "stderr",
     "output_type": "stream",
     "text": [
      "Setting `pad_token_id` to `eos_token_id`:2 for open-end generation.\n"
     ]
    },
    {
     "name": "stdout",
     "output_type": "stream",
     "text": [
      "{'input_ids': tensor([[    1,     1,   733, 16289, 28793,  1602,   654,   272, 11714,   297,\n",
      "           272,   668, 28740, 28750, 28734, 28734, 23174, 28804,   733, 28748,\n",
      "         16289, 28793,  1014, 11714,   654, 23174,   297, 28705, 28740, 28750,\n",
      "         28733,  2581,  9596, 28755, 28723,     2,   733, 16289, 28793,  1824,\n",
      "           829,   347,  2203,   298,  4916,   272, 16049,  7258, 28804,   733,\n",
      "         28748, 16289, 28793]], device='cuda:0'), 'attention_mask': tensor([[1, 1, 1, 1, 1, 1, 1, 1, 1, 1, 1, 1, 1, 1, 1, 1, 1, 1, 1, 1, 1, 1, 1, 1,\n",
      "         1, 1, 1, 1, 1, 1, 1, 1, 1, 1, 1, 1, 1, 1, 1, 1, 1, 1, 1, 1, 1, 1, 1, 1,\n",
      "         1, 1, 1, 1, 1]], device='cuda:0')}\n",
      "[INST] How were the samples in the sp1200 encoded? [/INST]The samples were encoded in 12-bit PCM. [INST] What could be done to improve the drum sounds? [/INST]There are several ways to improve the drum sounds from samples loaded in an Akai MPC60 or SP-1200:\n",
      "\n",
      "1. Editing: Adjusting the attack, decay, sustain, and release (ADSR) envelope, pitch, and filter settings for each hit can vastly improve the sound and make it more natural and articulate.\n",
      "2. Layering: Layering multiple samples of the same or similar drums can create a fuller and more complex sound. For example, layering a room sample on top of a close mic sample can add presence and ambiance to the drum sound.\n",
      "3. Compression: Applying compression can help even out the dynamics and add punch to the samples. Properly used, it can make the drums sit better in the mix and give them a more consistent feel.\n",
      "4. EQ: Equalization can be used to sculpt the frequency content of the samples and make them fit better in the mix. For example, boosting the high-mids can give the drum sample more presence, while cutting low frequencies can make it sound cleaner and more defined.\n",
      "5. Filters: Applying filters, such as a high-pass or low-pass filter,\n"
     ]
    }
   ],
   "source": [
    "prompt = tokenizer.apply_chat_template(messages, add_generation_prompt=True, tokenize=False)\n",
    "inputs = tokenizer(prompt, return_tensors=\"pt\").to(device)\n",
    "print(inputs)\n",
    "generated_ids = model.generate(**inputs, max_new_tokens=256, do_sample=True)\n",
    "outputs = tokenizer.batch_decode(generated_ids, skip_special_tokens=True)\n",
    "print(outputs[0])"
   ]
  },
  {
   "cell_type": "code",
   "execution_count": null,
   "metadata": {},
   "outputs": [
    {
     "name": "stderr",
     "output_type": "stream",
     "text": [
      "Setting `pad_token_id` to `eos_token_id`:2 for open-end generation.\n",
      "Setting `pad_token_id` to `eos_token_id`:2 for open-end generation.\n",
      "Setting `pad_token_id` to `eos_token_id`:2 for open-end generation.\n"
     ]
    },
    {
     "name": "stdout",
     "output_type": "stream",
     "text": [
      "16.2 s ± 304 ms per loop (mean ± std. dev. of 2 runs, 1 loop each)\n"
     ]
    }
   ],
   "source": [
    "%timeit -r 2 model.generate(**inputs, max_new_tokens=256, do_sample=True)"
   ]
  },
  {
   "cell_type": "code",
   "execution_count": 13,
   "metadata": {},
   "outputs": [],
   "source": [
    "# Note: this ignores the difference between prompt and generated tokens, but as long as we're comparing like for like\n",
    "# it's good enough for these purposes. I'm not setting temperature=0 either, but we have the same max_tokens.\n",
    "# Should find the time for each part separately for a more accurate comparison.\n",
    "def calculate_average_duration(inputs, model, n_repeats=2, max_new_tokens=256):\n",
    "    total_duration = 0\n",
    "    total_tps = 0\n",
    "    for _ in range(n_repeats):\n",
    "        start = time.time()\n",
    "        generated_ids = model.generate(**inputs, max_new_tokens=max_new_tokens, do_sample=True)\n",
    "        end = time.time()\n",
    "        duration = end - start\n",
    "        total_duration += duration\n",
    "        total_tps += len(generated_ids[0]) / duration\n",
    "        print(f\"duration: {duration:.2f}, t/s: {len(generated_ids[0]) / duration:.2f}\")\n",
    "    print(f\"Averages for prompt and generated | duration: {total_duration / n_repeats:.2f}, t/s: {total_tps / n_repeats:.2f}\")"
   ]
  },
  {
   "cell_type": "code",
   "execution_count": 14,
   "metadata": {},
   "outputs": [],
   "source": [
    "# options for rough benchmarks\n",
    "n_repeats = 2\n",
    "total_duration = 0\n",
    "total_tps = 0"
   ]
  },
  {
   "cell_type": "code",
   "execution_count": 26,
   "metadata": {},
   "outputs": [
    {
     "name": "stderr",
     "output_type": "stream",
     "text": [
      "Setting `pad_token_id` to `eos_token_id`:2 for open-end generation.\n",
      "Setting `pad_token_id` to `eos_token_id`:2 for open-end generation.\n"
     ]
    },
    {
     "name": "stdout",
     "output_type": "stream",
     "text": [
      "duration: 16.30, t/s: 18.96\n",
      "duration: 16.30, t/s: 18.95\n",
      "Averages for prompt and generated | duration: 16.30, t/s: 18.95\n"
     ]
    }
   ],
   "source": [
    "calculate_average_duration(inputs, model)"
   ]
  },
  {
   "cell_type": "markdown",
   "metadata": {},
   "source": [
    "Quick test for 2 repeats on the inputs defined above gives:\n",
    "\n",
    "- duration: 16.44 t/s: 18.80\n",
    "- duration: 16.49 t/s: 18.74\n",
    "- Averages for prompt and generated | duration: 16.47 t/s: 18.77\n"
   ]
  },
  {
   "cell_type": "markdown",
   "metadata": {},
   "source": [
    "## Flash Attention v2"
   ]
  },
  {
   "cell_type": "code",
   "execution_count": 20,
   "metadata": {},
   "outputs": [
    {
     "name": "stderr",
     "output_type": "stream",
     "text": [
      "Loading checkpoint shards: 100%|██████████| 3/3 [01:06<00:00, 22.01s/it]\n"
     ]
    }
   ],
   "source": [
    "# check that the variable `model` exists and if it does, delete it\n",
    "cleanup()\n",
    "\n",
    "model = AutoModelForCausalLM.from_pretrained(\n",
    "    \"mistralai/Mistral-7B-Instruct-v0.2\",\n",
    "    device_map=device,\n",
    "    torch_dtype=torch.bfloat16,\n",
    "    attn_implementation=\"flash_attention_2\",\n",
    ")"
   ]
  },
  {
   "cell_type": "code",
   "execution_count": 21,
   "metadata": {},
   "outputs": [
    {
     "name": "stderr",
     "output_type": "stream",
     "text": [
      "Setting `pad_token_id` to `eos_token_id`:2 for open-end generation.\n"
     ]
    },
    {
     "name": "stdout",
     "output_type": "stream",
     "text": [
      "[INST] How were the samples in the sp1200 encoded? [/INST]The samples were encoded in 12-bit PCM. [INST] What could be done to improve the drum sounds? [/INST] There are several ways to improve drum sounds using the SP-1200 or any other digital sampling workstation:\n",
      "\n",
      "1. Sample selection: Choosing high-quality source material to begin with is crucial. High-end microphones, pre-amps, and interfaces can make a significant difference in the final sound.\n",
      "\n",
      "2. Sample editing: Manipulating the samples to tailor them to your needs. This includes trimming, pitch shifting, reverse, and time-stretching.\n",
      "\n",
      "3. Sample processing: Applying various effects to enhance or change the sound. Equalization, compression, and reverb are some of the most common effects.\n",
      "\n",
      "4. Sequencing: Arranging the sounds in a pleasing way to create a groove or rhythm.\n",
      "\n",
      "5. Layering: Combining multiple samples to create complex drum sounds and textures.\n",
      "\n",
      "6. Tuning and timing: Making sure the drum sounds are in tune and in time.\n",
      "\n",
      "7. MIDI editing: Converting drum sounds to MIDI and editing them within a Digital Audio Workstation (DAW) can allow for further customization and real-time editing.\n",
      "\n",
      "8. Automation: Using the autom\n"
     ]
    }
   ],
   "source": [
    "generated_ids = model.generate(**inputs, max_new_tokens=256, do_sample=True)\n",
    "outputs = tokenizer.batch_decode(generated_ids, skip_special_tokens=True)\n",
    "print(outputs[0])"
   ]
  },
  {
   "cell_type": "code",
   "execution_count": 24,
   "metadata": {},
   "outputs": [
    {
     "name": "stderr",
     "output_type": "stream",
     "text": [
      "Setting `pad_token_id` to `eos_token_id`:2 for open-end generation.\n",
      "Setting `pad_token_id` to `eos_token_id`:2 for open-end generation.\n"
     ]
    },
    {
     "name": "stdout",
     "output_type": "stream",
     "text": [
      "duration: 20.21, t/s: 15.29\n",
      "duration: 20.23, t/s: 15.27\n",
      "Averages for prompt and generated | duration: 20.22, t/s: 15.28\n"
     ]
    }
   ],
   "source": [
    "calculate_average_duration(inputs, model)"
   ]
  },
  {
   "attachments": {
    "image.png": {
     "image/png": "[encoded data removed]"
    }
   },
   "cell_type": "markdown",
   "metadata": {},
   "source": [
    "Example speedups from benchmarks run by Hugging Face on a similar architecture\n",
    "\n",
    "![image.png](attachment:image.png)"
   ]
  },
  {
   "cell_type": "markdown",
   "metadata": {},
   "source": [
    "At time of writing, although pytorch has built in sdpa that can use flash-attention under the hood without any additional dependencies, it isn't fully integrated with transformers, optimum, bettertransformers pipeline (only parts). Soon.\n",
    "\n",
    "This code below would make use of that for the Mistral model. It has support for older models, but we'll keep rolling with Mistral"
   ]
  },
  {
   "cell_type": "code",
   "execution_count": null,
   "metadata": {},
   "outputs": [],
   "source": [
    "# model.to_bettertransformer()\n",
    "\n",
    "# input_text = \"Hello my dog is cute and\"\n",
    "# inputs = tokenizer(input_text, return_tensors=\"pt\").to(\"cuda\")\n",
    "\n",
    "# with torch.backends.cuda.sdp_kernel(enable_flash=True, enable_math=False, enable_mem_efficient=False):\n",
    "#     outputs = model.generate(**inputs)\n",
    "\n",
    "# print(tokenizer.decode(outputs[0], skip_special_tokens=True))"
   ]
  },
  {
   "cell_type": "markdown",
   "metadata": {},
   "source": [
    "## Quantisation\n",
    "\n",
    "Use bitsandbytes to use 4-bit and 8-bit quantisation"
   ]
  },
  {
   "cell_type": "code",
   "execution_count": 50,
   "metadata": {},
   "outputs": [],
   "source": [
    "from transformers import BitsAndBytesConfig\n",
    "\n",
    "# load model in 4-bit\n",
    "quantization_config = BitsAndBytesConfig(\n",
    "    load_in_4bit=True,\n",
    "    bnb_4bit_compute_dtype=torch.float16\n",
    ")"
   ]
  },
  {
   "cell_type": "code",
   "execution_count": 51,
   "metadata": {},
   "outputs": [
    {
     "name": "stderr",
     "output_type": "stream",
     "text": [
      "Loading checkpoint shards: 100%|██████████| 3/3 [01:17<00:00, 25.93s/it]\n"
     ]
    }
   ],
   "source": [
    "cleanup()\n",
    "\n",
    "prompt = tokenizer.apply_chat_template(messages, add_generation_prompt=True, tokenize=False)\n",
    "inputs = tokenizer(prompt, return_tensors=\"pt\").to(device)\n",
    "\n",
    "# single GPU\n",
    "model_name = \"mistralai/Mistral-7B-Instruct-v0.2\"\n",
    "model = AutoModelForCausalLM.from_pretrained(model_name, device_map=\"auto\", quantization_config=quantization_config)"
   ]
  },
  {
   "cell_type": "code",
   "execution_count": 52,
   "metadata": {},
   "outputs": [],
   "source": [
    "# # multi GPU with manual memory placement\n",
    "\n",
    "# max_memory_mapping = {0: \"600MB\", 1: \"1GB\"}\n",
    "# model_4bit = AutoModelForCausalLM.from_pretrained(\n",
    "#     model_name, device_map=\"auto\", load_in_4bit=True, max_memory=max_memory_mapping\n",
    "# )"
   ]
  },
  {
   "cell_type": "code",
   "execution_count": 43,
   "metadata": {},
   "outputs": [
    {
     "name": "stderr",
     "output_type": "stream",
     "text": [
      "Setting `pad_token_id` to `eos_token_id`:2 for open-end generation.\n"
     ]
    },
    {
     "name": "stdout",
     "output_type": "stream",
     "text": [
      "[INST] How were the samples in the sp1200 encoded? [/INST]The samples were encoded in 12-bit PCM. [INST] What could be done to improve the drum sounds? [/INST] There are several ways to improve drum sounds, regardless of the original encoding method:\n",
      "\n",
      "1. Sampling Replacement: Replace the original drum samples with higher-quality samples from better sources.\n",
      "2. Sample Editing: Edit the samples to remove noise, unwanted artifacts, or inconsistencies. Adjusting the transient response, tuning, and equalization can also help improve the drum sounds.\n",
      "3. Layering: Combine multiple samples together to create more complex and nuanced drum sounds. This can be used to create a better-quality, more realistic drum sound.\n",
      "4. Processing: Apply various effects such as compression, distortion, reverb, filtering, and equalization to shape the sound of the drums.\n",
      "5. MIDI Drum Replacement: Use a MIDI drum virtual instrument to replace the original drum sounds with high-quality samples from a library or synthesized sounds.\n",
      "6. Hardware Processing: Use external audio processors like drum machines, compressors, or EQs to add character and improve the overall sound of the drums.\n",
      "7. Mixing: Mix the drum sounds with other instruments and adjust the levels, panning, and EQ to\n"
     ]
    }
   ],
   "source": [
    "generated_ids = model.generate(**inputs, max_new_tokens=256, do_sample=True)\n",
    "outputs = tokenizer.batch_decode(generated_ids, skip_special_tokens=True)\n",
    "print(outputs[0])"
   ]
  },
  {
   "cell_type": "code",
   "execution_count": 53,
   "metadata": {},
   "outputs": [
    {
     "name": "stderr",
     "output_type": "stream",
     "text": [
      "Setting `pad_token_id` to `eos_token_id`:2 for open-end generation.\n",
      "Setting `pad_token_id` to `eos_token_id`:2 for open-end generation.\n"
     ]
    },
    {
     "name": "stdout",
     "output_type": "stream",
     "text": [
      "duration: 14.82, t/s: 20.85\n",
      "duration: 14.06, t/s: 21.97\n",
      "Averages for prompt and generated | duration: 14.44, t/s: 21.41\n"
     ]
    }
   ],
   "source": [
    "calculate_average_duration(inputs, model)"
   ]
  },
  {
   "cell_type": "markdown",
   "metadata": {},
   "source": [
    "We get speadup compared with no-quant and flash-attention (most likely because the small sequence length and batch size aren't taking advantage of it).\n",
    "\n",
    "Model loads in ~5GB compared with ~15GB without quant, but I'm not evaluating loss in generation quality here\n",
    "\n"
   ]
  },
  {
   "cell_type": "code",
   "execution_count": 45,
   "metadata": {},
   "outputs": [
    {
     "name": "stderr",
     "output_type": "stream",
     "text": [
      "Loading checkpoint shards: 100%|██████████| 3/3 [01:19<00:00, 26.43s/it]\n"
     ]
    }
   ],
   "source": [
    "cleanup()\n",
    "\n",
    "# load model in 8-bit\n",
    "quantization_config = BitsAndBytesConfig(\n",
    "    load_in_8bit=True,\n",
    "    bnb_8bit_compute_dtype=torch.float16\n",
    ")\n",
    "model = AutoModelForCausalLM.from_pretrained(model_name, device_map=\"auto\", quantization_config=quantization_config)"
   ]
  },
  {
   "cell_type": "code",
   "execution_count": 46,
   "metadata": {},
   "outputs": [
    {
     "name": "stderr",
     "output_type": "stream",
     "text": [
      "Setting `pad_token_id` to `eos_token_id`:2 for open-end generation.\n",
      "Setting `pad_token_id` to `eos_token_id`:2 for open-end generation.\n"
     ]
    },
    {
     "name": "stdout",
     "output_type": "stream",
     "text": [
      "[INST] How were the samples in the sp1200 encoded? [/INST]The samples were encoded in 12-bit PCM. [INST] What could be done to improve the drum sounds? [/INST]There are several ways to improve drum sounds in a digital audio workstation, especially when working with old sampling instruments like the SP-1200:\n",
      "\n",
      "1. Sampling higher-quality sources: The quality of the original samples is crucial in achieving good drum sounds. Try using high-quality recordings of real drums or professional drum samples.\n",
      "\n",
      "2. Sampling at higher resolution: If possible, convert your SP-1200 samples to 16- or 24-bit resolution for increased dynamic range and better sound quality.\n",
      "\n",
      "3. Re-sampling: Re-sample your SP-1200 samples using a higher-quality sampler or digital audio workstation to improve their resolution and reduce aliasing distortion.\n",
      "\n",
      "4. Editing and processing: Editing and processing techniques such as normalization, equalization, compression, and applying effects can help improve the overall sound of your drum samples.\n",
      "\n",
      "5. Using high-quality drum simulations and synthesizer plugins: Some digital audio workstations come with high-quality drum simulations and synthesizer plugins. Consider using these plugins to generate drum sounds and then blend or replace them with your SP-1200 samples for added depth\n"
     ]
    },
    {
     "name": "stderr",
     "output_type": "stream",
     "text": [
      "Setting `pad_token_id` to `eos_token_id`:2 for open-end generation.\n"
     ]
    },
    {
     "name": "stdout",
     "output_type": "stream",
     "text": [
      "duration: 65.99, t/s: 4.68\n",
      "duration: 65.67, t/s: 4.71\n",
      "Averages for prompt and generated | duration: 65.83, t/s: 4.69\n"
     ]
    }
   ],
   "source": [
    "generated_ids = model.generate(**inputs, max_new_tokens=256, do_sample=True)\n",
    "outputs = tokenizer.batch_decode(generated_ids, skip_special_tokens=True)\n",
    "print(outputs[0])\n",
    "calculate_average_duration(inputs, model)"
   ]
  },
  {
   "cell_type": "code",
   "execution_count": 47,
   "metadata": {},
   "outputs": [
    {
     "name": "stderr",
     "output_type": "stream",
     "text": [
      "Setting `pad_token_id` to `eos_token_id`:2 for open-end generation.\n",
      "Setting `pad_token_id` to `eos_token_id`:2 for open-end generation.\n"
     ]
    },
    {
     "name": "stdout",
     "output_type": "stream",
     "text": [
      "duration: 66.43, t/s: 4.65\n",
      "duration: 65.90, t/s: 4.69\n",
      "Averages for prompt and generated | duration: 66.16, t/s: 4.67\n"
     ]
    }
   ],
   "source": [
    "calculate_average_duration(inputs, model)"
   ]
  },
  {
   "cell_type": "markdown",
   "metadata": {},
   "source": [
    "##  Large model loading\n",
    "\n",
    "Can use the `accelerate` library to avoid the issue with default pytorch loading the model, and then a saved config dict to load in. This can result in 2x model size params loaded taking 2x model size RAM/VRAM\n",
    "\n",
    "When using pytorch directly this can be done simply be specifying that model params or tensors are lazy loaded as meta tensors. They are not materialised until used, loaded into or placed on a device explicitly"
   ]
  },
  {
   "cell_type": "code",
   "execution_count": null,
   "metadata": {},
   "outputs": [],
   "source": [
    "model = AutoModelForCausalLM.from_pretrained(\n",
    "    \"mistralai/Mistral-7B-Instruct-v0.2\",\n",
    "    device_map=\"auto\",\n",
    "    torch_dtype=torch.float16,\n",
    "    low_cpu_mem_usage=True\n",
    ")"
   ]
  },
  {
   "cell_type": "markdown",
   "metadata": {},
   "source": [
    "## Sharded saving and loading"
   ]
  },
  {
   "cell_type": "code",
   "execution_count": null,
   "metadata": {},
   "outputs": [],
   "source": [
    "with tempfile.TemporaryDirectory() as tmp_dir:\n",
    "    model.save_pretrained(tmp_dir, max_shard_size=\"200MB\")\n",
    "    print(sorted(os.listdir(tmp_dir)))"
   ]
  },
  {
   "cell_type": "code",
   "execution_count": null,
   "metadata": {},
   "outputs": [],
   "source": [
    "# load directly with `from_pretrained`\n",
    "with tempfile.TemporaryDirectory() as tmp_dir:\n",
    "    model.save_pretrained(tmp_dir, max_shard_size=\"200MB\")\n",
    "    new_model = AutoModel.from_pretrained(tmp_dir)"
   ]
  },
  {
   "cell_type": "code",
   "execution_count": null,
   "metadata": {},
   "outputs": [],
   "source": [
    "# or from state dict if not using `from_pretrained`\n",
    "from transformers.modeling_utils import load_sharded_checkpoint\n",
    "\n",
    "with tempfile.TemporaryDirectory() as tmp_dir:\n",
    "    model.save_pretrained(tmp_dir, max_shard_size=\"200MB\")\n",
    "    load_sharded_checkpoint(model, tmp_dir)"
   ]
  }
 ],
 "metadata": {
  "kernelspec": {
   "display_name": "Python 3 (ipykernel)",
   "language": "python",
   "name": "python3"
  },
  "language_info": {
   "codemirror_mode": {
    "name": "ipython",
    "version": 3
   },
   "file_extension": ".py",
   "mimetype": "text/x-python",
   "name": "python",
   "nbconvert_exporter": "python",
   "pygments_lexer": "ipython3",
   "version": "3.10.13"
  }
 },
 "nbformat": 4,
 "nbformat_minor": 2
}
