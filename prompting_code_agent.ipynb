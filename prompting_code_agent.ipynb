{
 "cells": [
  {
   "cell_type": "markdown",
   "metadata": {},
   "source": [
    "# Create a very basic code assistant and experiment with some prompting"
   ]
  },
  {
   "cell_type": "code",
   "execution_count": 1,
   "metadata": {},
   "outputs": [],
   "source": [
    "import json\n",
    "import os\n",
    "import openai"
   ]
  },
  {
   "cell_type": "code",
   "execution_count": 2,
   "metadata": {},
   "outputs": [
    {
     "data": {
      "text/plain": [
       "True"
      ]
     },
     "execution_count": 2,
     "metadata": {},
     "output_type": "execute_result"
    }
   ],
   "source": [
    "from dotenv import load_dotenv\n",
    "load_dotenv()"
   ]
  },
  {
   "cell_type": "code",
   "execution_count": 94,
   "metadata": {},
   "outputs": [],
   "source": [
    "from endpoint_utils import openai_chat_completions_create"
   ]
  },
  {
   "cell_type": "code",
   "execution_count": 3,
   "metadata": {},
   "outputs": [],
   "source": [
    "client = openai.Client()"
   ]
  },
  {
   "cell_type": "code",
   "execution_count": 20,
   "metadata": {},
   "outputs": [
    {
     "data": {
      "text/plain": [
       "[Model(id='gpt-4-0613', created=1686588896, object='model', owned_by='openai'),\n",
       " Model(id='gpt-4', created=1687882411, object='model', owned_by='openai'),\n",
       " Model(id='gpt-4-vision-preview', created=1698894917, object='model', owned_by='system'),\n",
       " Model(id='gpt-4-1106-preview', created=1698957206, object='model', owned_by='system'),\n",
       " Model(id='gpt-4-0314', created=1687882410, object='model', owned_by='openai')]"
      ]
     },
     "execution_count": 20,
     "metadata": {},
     "output_type": "execute_result"
    }
   ],
   "source": [
    "model_list = client.models.list().data\n",
    "model_list = [m for m in model_list if m.id.startswith(\"gpt-4\")]\n",
    "model_list"
   ]
  },
  {
   "cell_type": "code",
   "execution_count": 28,
   "metadata": {},
   "outputs": [],
   "source": [
    "OPEN_AI_MODEL = \"gpt-4-1106-preview\""
   ]
  },
  {
   "cell_type": "code",
   "execution_count": 99,
   "metadata": {},
   "outputs": [],
   "source": [
    "# function to run python code from a string using the ast module\n",
    "def run_python_code(code, globals_=None, locals_=None):\n",
    "    import ast\n",
    "    if globals_ is None:\n",
    "        globals_ = {}\n",
    "    if locals_ is None:\n",
    "        locals_ = {}\n",
    "    parsed = ast.parse(code)\n",
    "    code_obj = compile(parsed, filename=\"<ast>\", mode=\"exec\")\n",
    "    exec(code_obj, globals_, locals_)"
   ]
  },
  {
   "cell_type": "code",
   "execution_count": 105,
   "metadata": {},
   "outputs": [],
   "source": [
    "# messages = [\n",
    "#     {\"role\": \"system\", \"content\": \"\"\"\\\n",
    "# You are a helpful and highly expert python coding assistant. \\\n",
    "# When asked to generate code you always give the best code possible within code blocks surrounding the python code.\n",
    "# When providing example usage, this should be in a second code block, with no further text between each code block.\n",
    "# \"\"\"}\n",
    "# ]\n",
    "\n",
    "messages = [\n",
    "    {\"role\": \"system\", \"content\": \"\"\"\\\n",
    "You are a helpful and highly expert python coding assistant. \\\n",
    "When asked to generate code you always give the best code possible within code blocks surrounding the python code.\n",
    "\"\"\"},\n",
    "]"
   ]
  },
  {
   "cell_type": "code",
   "execution_count": 106,
   "metadata": {},
   "outputs": [],
   "source": [
    "prompt = \"\"\"\\\n",
    "Write python code that will download a file from a URL available as an existing local variable `url` and save it to a file. \\\n",
    "The `url` variable should not be set by the code you generate. \\\n",
    "\"\"\""
   ]
  },
  {
   "cell_type": "code",
   "execution_count": 107,
   "metadata": {},
   "outputs": [],
   "source": [
    "messages_req = messages + [{\"role\": \"user\", \"content\": prompt}]\n",
    "content, response = openai_chat_completions_create(messages_req, model=OPEN_AI_MODEL, client=client, return_response=True, max_retries=2)\n",
    "completion_message = response.choices[0].message.model_dump(exclude_unset=True)"
   ]
  },
  {
   "cell_type": "markdown",
   "metadata": {},
   "source": [
    "Setup local variables to use. Prompt should ask to use these, not set examples"
   ]
  },
  {
   "cell_type": "code",
   "execution_count": 108,
   "metadata": {},
   "outputs": [],
   "source": [
    "# locals_ = {\"url\": \"https://cf1.zzounds.com/media/productmedia/fit,600by600/quality,85/Prophet-5_Left_Angle_820175-435c1c5a0e3d3a898c11179315824fc9.jpg\"}\n",
    "url = \"https://cf1.zzounds.com/media/productmedia/fit,600by600/quality,85/Prophet-5_Left_Angle_820175-435c1c5a0e3d3a898c11179315824fc9.jpg\""
   ]
  },
  {
   "cell_type": "code",
   "execution_count": 110,
   "metadata": {},
   "outputs": [
    {
     "name": "stdout",
     "output_type": "stream",
     "text": [
      "Code found\n",
      "---\n",
      "\n",
      "import requests\n",
      "\n",
      "# Assume the 'url' variable is already defined\n",
      "# url = 'http://example.com/somefile.txt'\n",
      "\n",
      "# Send a GET request to the URL\n",
      "response = requests.get(url)\n",
      "\n",
      "# Check if the request was successful\n",
      "if response.status_code == 200:\n",
      "    # Extract the filename from the URL, assuming it is the last segment after '/'\n",
      "    filename = url.split('/')[-1]\n",
      "\n",
      "    # Write the content of the request to a file\n",
      "    with open(filename, 'wb') as file:\n",
      "        file.write(response.content)\n",
      "    print(f\"File '{filename}' has been downloaded successfully.\")\n",
      "else:\n",
      "    print(f\"Failed to download the file. Status code: {response.status_code}\")\n",
      "\n",
      "File 'Prophet-5_Left_Angle_820175-435c1c5a0e3d3a898c11179315824fc9.jpg' has been downloaded successfully.\n"
     ]
    }
   ],
   "source": [
    "content = completion_message[\"content\"]\n",
    "assert '```python' in content, \"No code block found in response\\n\\n\" + content\n",
    "\n",
    "code = content.split('```python')[1].split('```')[0]\n",
    "print('Code found\\n---\\n' + code, flush=True)\n",
    "\n",
    "run_it = input('Run code? [y/N]: ')\n",
    "if run_it.lower() == 'y':\n",
    "    run_python_code(code, globals_=globals(), locals_=locals())"
   ]
  }
 ],
 "metadata": {
  "kernelspec": {
   "display_name": "llms",
   "language": "python",
   "name": "python3"
  },
  "language_info": {
   "codemirror_mode": {
    "name": "ipython",
    "version": 3
   },
   "file_extension": ".py",
   "mimetype": "text/x-python",
   "name": "python",
   "nbconvert_exporter": "python",
   "pygments_lexer": "ipython3",
   "version": "3.11.6"
  }
 },
 "nbformat": 4,
 "nbformat_minor": 2
}
