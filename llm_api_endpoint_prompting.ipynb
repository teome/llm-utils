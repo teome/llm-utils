{
 "cells": [
  {
   "cell_type": "markdown",
   "metadata": {},
   "source": [
    "# API endpoint prompt format testing\n",
    "Playing with different formats for mostly mistral models. Using Together via the `/inference` endpoint we can bypass their prompt formatting for instruct/chat models and have more control.\n",
    "\n",
    "This means there's still the control and instructing of these models, but we can also part-fill their responses to guide.\n",
    "\n",
    "Alternatively, just use the base models and ignore the instruction tuning completely. There's still a lot of non-instruct style things that can be done with the instruction tuned models, but their logit distributions are altered from the base and it's not yet clear in what ways this is better or worse for extracting the best reasoning and knoweledge from them if you don't need to have structured conversations...this is still a research question."
   ]
  },
  {
   "cell_type": "code",
   "execution_count": 181,
   "metadata": {},
   "outputs": [],
   "source": [
    "import json\n",
    "import os\n",
    "import sys\n",
    "from typing import List, Dict, Any\n",
    "import requests"
   ]
  },
  {
   "cell_type": "code",
   "execution_count": 13,
   "metadata": {},
   "outputs": [],
   "source": [
    "# add the parent directory to the path so we can import the module\n",
    "# sys.path.append(os.path.abspath('.'))\n",
    "sys.path.append(os.getcwd())"
   ]
  },
  {
   "cell_type": "code",
   "execution_count": 14,
   "metadata": {},
   "outputs": [
    {
     "data": {
      "text/plain": [
       "True"
      ]
     },
     "execution_count": 14,
     "metadata": {},
     "output_type": "execute_result"
    }
   ],
   "source": [
    "from dotenv import load_dotenv\n",
    "load_dotenv()"
   ]
  },
  {
   "cell_type": "code",
   "execution_count": 15,
   "metadata": {},
   "outputs": [],
   "source": [
    "from llm_utils.endpoint_utils import rest_api_request"
   ]
  },
  {
   "cell_type": "code",
   "execution_count": 42,
   "metadata": {},
   "outputs": [],
   "source": [
    "def create_json_data_together_base(model: str, max_tokens: int = 1024, temperature: float = 0.7, repetition_penalty: float = 1.0, top_p: float = 0.7, **kwargs) -> Dict[str, Any]:\n",
    "    \"\"\"Create json dict for requests call\"\"\"\n",
    "    json_data: Dict[str, Any] = {\n",
    "        \"model\": model,\n",
    "        \"max_tokens\": max_tokens,\n",
    "        \"temperature\": temperature,\n",
    "        \"repetition_penalty\": repetition_penalty,\n",
    "        \"top_p\": top_p,\n",
    "        **kwargs,\n",
    "    }\n",
    "    return json_data\n",
    "def create_json_data_together_chat(model: str, messages: List[str], max_tokens: int = 1024, temperature: float = 0.7, repetition_penalty: float = 1.0, top_p: float = 0.7, **kwargs) -> Dict[str, Any]:\n",
    "    \"\"\"Create json dict for requests call\"\"\"\n",
    "    return create_json_data_together_base(model, max_tokens, temperature, repetition_penalty, top_p, messages=messages, **kwargs)\n",
    "\n",
    "def create_json_data_together_inference(model: str, prompt: str, max_tokens: int = 1024, temperature: float = 0.7, repetition_penalty: float = 1.0, top_p: float = 0.7, **kwargs) -> Dict[str, Any]:\n",
    "    \"\"\"Create json dict for requests call\"\"\"\n",
    "    return create_json_data_together_base(model, max_tokens, temperature, repetition_penalty, top_p, prompt=prompt, **kwargs)\n"
   ]
  },
  {
   "cell_type": "code",
   "execution_count": 43,
   "metadata": {},
   "outputs": [],
   "source": [
    "fmt_prompt_mistral_instruct = \"\"\"\\\n",
    "[INST] {prompt} [/INST] \\\n",
    "\"\"\""
   ]
  },
  {
   "cell_type": "code",
   "execution_count": 46,
   "metadata": {},
   "outputs": [],
   "source": [
    "prompt = \"What's the Roland 808?\"\n",
    "prompt_str = fmt_prompt_mistral_instruct.format(prompt=prompt)"
   ]
  },
  {
   "cell_type": "code",
   "execution_count": 47,
   "metadata": {},
   "outputs": [
    {
     "data": {
      "text/plain": [
       "\"[INST] What's the Roland 808? [/INST] \""
      ]
     },
     "execution_count": 47,
     "metadata": {},
     "output_type": "execute_result"
    }
   ],
   "source": [
    "prompt_str"
   ]
  },
  {
   "cell_type": "code",
   "execution_count": 64,
   "metadata": {},
   "outputs": [],
   "source": [
    "BASE_URL = \"https://api.together.xyz/inference\"\n",
    "API_KEY = os.getenv(\"TOGETHER_API_KEY\")\n",
    "MODEL = \"mistralai/Mixtral-8x7B-Instruct-v0.1\"\n",
    "# MODEL = \"mistralai/Mixtral-8x7B-v0.1\""
   ]
  },
  {
   "cell_type": "code",
   "execution_count": 65,
   "metadata": {},
   "outputs": [
    {
     "data": {
      "text/plain": [
       "{'model': 'mistralai/Mixtral-8x7B-Instruct-v0.1',\n",
       " 'max_tokens': 1024,\n",
       " 'temperature': 0.7,\n",
       " 'repetition_penalty': 1.0,\n",
       " 'top_p': 0.7,\n",
       " 'prompt': \"[INST] What's the Roland 808? [/INST] \"}"
      ]
     },
     "execution_count": 65,
     "metadata": {},
     "output_type": "execute_result"
    }
   ],
   "source": [
    "create_json_data_together_inference(MODEL, prompt_str)"
   ]
  },
  {
   "cell_type": "code",
   "execution_count": 71,
   "metadata": {},
   "outputs": [],
   "source": [
    "stream=False\n",
    "response = rest_api_request(BASE_URL, create_json_data_together_inference(MODEL, prompt_str, stream=stream), API_KEY, stream=stream)"
   ]
  },
  {
   "cell_type": "code",
   "execution_count": 72,
   "metadata": {},
   "outputs": [
    {
     "name": "stdout",
     "output_type": "stream",
     "text": [
      "{\n",
      "    \"args\": {\n",
      "        \"max_tokens\": 1024,\n",
      "        \"model\": \"mistralai/Mixtral-8x7B-Instruct-v0.1\",\n",
      "        \"prompt\": \"[INST] What's the Roland 808? [/INST] \",\n",
      "        \"repetition_penalty\": 1,\n",
      "        \"stream\": false,\n",
      "        \"temperature\": 0.7,\n",
      "        \"top_p\": 0.7\n",
      "    },\n",
      "    \"id\": \"84055db01d5179ae-LHR\",\n",
      "    \"model\": \"mistralai/Mixtral-8x7B-Instruct-v0.1\",\n",
      "    \"model_owner\": \"\",\n",
      "    \"num_returns\": 1,\n",
      "    \"output\": {\n",
      "        \"choices\": [\n",
      "            {\n",
      "                \"text\": \"\\tThe Roland TR-808 Rhythm Composer, commonly known as the Roland 808, is a programmable drum machine manufactured by the Roland Corporation between 1980 and 1984. It was designed to provide musicians with a simple and affordable way to create electronic drum patterns, and it quickly became a staple in many genres of music, including hip hop, house, and techno.\\n\\nThe 808 features a simple step-sequencer interface, which allows users to program drum patterns by entering notes on a 16-step grid. It includes a variety of drum sounds, such as bass drum, snare drum, hi-hat, and cymbal, which can be adjusted for pitch, decay, and tone. The 808 also includes a number of unique features, such as a \\\"cowbell\\\" sound and the ability to create \\\"rolls\\\" or rapid-fire sequences of notes.\\n\\nDespite being discontinued in 1984, the Roland 808 has had a lasting impact on music. Its distinctive sound has been featured on countless hit records, and it has become a cultural icon in its own right. The 808 has been honored with a number of tributes and reissues, and it continues to be a popular tool for musicians and producers around the world.\"\n",
      "            }\n",
      "        ],\n",
      "        \"result_type\": \"language-model-inference\",\n",
      "        \"usage\": {\n",
      "            \"completion_tokens\": 290,\n",
      "            \"prompt_tokens\": 19,\n",
      "            \"total_tokens\": 309\n",
      "        }\n",
      "    },\n",
      "    \"prompt\": [\n",
      "        \"[INST] What's the Roland 808? [/INST] \"\n",
      "    ],\n",
      "    \"status\": \"finished\",\n",
      "    \"subjobs\": []\n",
      "}\n",
      "\n",
      "\n",
      "\tThe Roland TR-808 Rhythm Composer, commonly known as the Roland 808, is a programmable drum machine manufactured by the Roland Corporation between 1980 and 1984. It was designed to provide musicians with a simple and affordable way to create electronic drum patterns, and it quickly became a staple in many genres of music, including hip hop, house, and techno.\n",
      "\n",
      "The 808 features a simple step-sequencer interface, which allows users to program drum patterns by entering notes on a 16-step grid. It includes a variety of drum sounds, such as bass drum, snare drum, hi-hat, and cymbal, which can be adjusted for pitch, decay, and tone. The 808 also includes a number of unique features, such as a \"cowbell\" sound and the ability to create \"rolls\" or rapid-fire sequences of notes.\n",
      "\n",
      "Despite being discontinued in 1984, the Roland 808 has had a lasting impact on music. Its distinctive sound has been featured on countless hit records, and it has become a cultural icon in its own right. The 808 has been honored with a number of tributes and reissues, and it continues to be a popular tool for musicians and producers around the world.\n"
     ]
    }
   ],
   "source": [
    "# response.content.decode(\"utf-8\")\n",
    "json_data = response.json()\n",
    "print(json.dumps(json_data, indent=4, sort_keys=True))\n",
    "print('\\n\\n' + json_data['output']['choices'][0]['text'])"
   ]
  },
  {
   "cell_type": "markdown",
   "metadata": {},
   "source": [
    "## Streaming client"
   ]
  },
  {
   "cell_type": "code",
   "execution_count": 182,
   "metadata": {},
   "outputs": [],
   "source": [
    "# Handling of Server Sent Events (SSE) -- alternatively use sseclient-py (not sseclient)\n",
    "def _process_sse_event(buffer):\n",
    "    event_data = {}\n",
    "    for line in buffer.strip().split('\\n'):\n",
    "        key, value = line.split(':', 1)\n",
    "        event_data[key.strip()] = value.strip()\n",
    "\n",
    "    return event_data\n",
    "\n",
    "def stream_sse(response: requests.Response):\n",
    "    # Make sure the connection is valid\n",
    "    if response.status_code == 200:\n",
    "        buffer = ''\n",
    "        for line in response.iter_lines():\n",
    "            if line:\n",
    "                buffer += line.decode('utf-8') + '\\n'\n",
    "            else:\n",
    "                yield _process_sse_event(buffer)\n",
    "                buffer = ''\n",
    "    else:\n",
    "        print(f\"Connection failed with status code: {response.status_code}\")\n",
    "\n",
    "\n",
    "def print_stream_sse(response: requests.Response):\n",
    "    for chunk in stream_sse(response):\n",
    "        # Assumes either together.ai or openai (vLLM might work too...)\n",
    "        if not chunk['data'] or chunk['data'] == '[DONE]':\n",
    "            print(\"\")\n",
    "            break\n",
    "        data = json.loads(chunk['data'])\n",
    "        print(data['choices'][0]['text'], end='', flush=True)"
   ]
  },
  {
   "cell_type": "code",
   "execution_count": 192,
   "metadata": {},
   "outputs": [],
   "source": [
    "stream=True\n",
    "response = rest_api_request(BASE_URL, create_json_data_together_inference(MODEL, prompt_str, stream=stream), API_KEY, stream=stream)"
   ]
  },
  {
   "cell_type": "code",
   "execution_count": 184,
   "metadata": {},
   "outputs": [
    {
     "name": "stdout",
     "output_type": "stream",
     "text": [
      "[INST] What's the Roland 808? [/INST] \n",
      "\tTheThe Roland TR-808 Rhythm Composer, commonly known as the Roland 808, is a classic analog drum machine that was first released by the Roland Corporation in 1980. It quickly became popular in the music industry due to its unique sound and versatility.\n",
      "\n",
      "The 808 features a simple step-sequencer interface and a variety of drum sounds, including kick, snare, tom, rim shot, hand clap, and cymbal. The sounds can be tweaked and customized using various controls, such as tuning, decay, and attack.\n",
      "\n",
      "One of the reasons the 808 became so iconic is its distinctive bass drum sound, which has a deep, boomy quality that is often associated with hip-hop and electronic music. The 808's cowbell and hand clap sounds are also widely used in many genres of music.\n",
      "\n",
      "Although the 808 was eventually discontinued in 1983, its influence can still be heard in countless recordings and live performances today. The 808 has been emulated in many software plugins and sample packs, and Roland has even released a modern digital version of the 808, the TR-8S, which combines the classic 808 sounds with modern features and connectivity.</s>\n"
     ]
    }
   ],
   "source": [
    "print(prompt_str)\n",
    "print_stream_sse(response)"
   ]
  },
  {
   "cell_type": "code",
   "execution_count": 193,
   "metadata": {},
   "outputs": [
    {
     "name": "stdout",
     "output_type": "stream",
     "text": [
      "\tThe Roland TR-808The Roland TR-808 Rhythm Composer, commonly known as the Roland 808, is a classic analog drum machine that was first released by the Roland Corporation in 1980. It quickly became popular in the music industry for its distinctive sound and has been used by countless musicians and producers to create some of the most iconic beats in music history.\n",
      "\n",
      "The Roland 808 features a simple and intuitive interface with buttons and knobs that allow users to program and customize drum patterns. It includes a variety of drum sounds, such as bass drum, snare drum, handclap, cymbal, and more, which can be adjusted for pitch, decay, and tone. The 808 also has a built-in sequencer that can store up to 32 patterns, which can be chained together to create longer songs.\n",
      "\n",
      "One of the reasons the Roland 808 has become so legendary is its unique sound. The bass drum in particular has a deep, punchy sound that has become a staple in many genres of music, including hip-hop, electronic dance music, and pop. The 808's other drum sounds are also highly regarded for their warmth and character.\n",
      "\n",
      "Over the years, the Roland 808 has been used by a wide range of artists, from Marvin Gaye and Afrika Bambaataa to Kanye West and Daft Punk. Its influence can be heard in countless songs and genres, and it has become an iconic symbol of electronic music.\n",
      "\n",
      "While the original Roland 808 is no longer in production, there are many modern digital and analog drum machines that aim to emulate its sound and functionality. The 808's legacy continues to inspire new generations of musicians and producers to this day.</s>\n"
     ]
    }
   ],
   "source": [
    "full_text = \"\"\n",
    "for chunk in stream_sse(response):\n",
    "    if chunk['data'] == '[DONE]':\n",
    "        print(\"\")\n",
    "        break\n",
    "    text = json.loads(chunk['data'])['choices'][0]['text']\n",
    "    full_text += text\n",
    "    print(text, end='', flush=True)"
   ]
  },
  {
   "cell_type": "code",
   "execution_count": 195,
   "metadata": {},
   "outputs": [
    {
     "name": "stdout",
     "output_type": "stream",
     "text": [
      "[INST] What's the Roland 808? [/INST] \tThe Roland TR-808 Rhythm Composer, commonly known as the Roland 808, is a classic analog drum machine that was first released by the Roland Corporation in 1980. It quickly became popular in the music industry for its distinctive sound and has been used by countless musicians and producers to create some of the most iconic beats in music history.\n",
      "\n",
      "The Roland 808 features a simple and intuitive interface with buttons and knobs that allow users to program and customize drum patterns. It includes a variety of drum sounds, such as bass drum, snare drum, handclap, cymbal, and more, which can be adjusted for pitch, decay, and tone. The 808 also has a built-in sequencer that can store up to 32 patterns, which can be chained together to create longer songs.\n",
      "\n",
      "One of the reasons the Roland 808 has become so legendary is its unique sound. The bass drum in particular has a deep, punchy sound that has become a staple in many genres of music, including hip-hop, electronic dance music, and pop. The 808's other drum sounds are also highly regarded for their warmth and character.\n",
      "\n",
      "Over the years, the Roland 808 has been used by a wide range of artists, from Marvin Gaye and Afrika Bambaataa to Kanye West and Daft Punk. Its influence can be heard in countless songs and genres, and it has become an iconic symbol of electronic music.\n",
      "\n",
      "While the original Roland 808 is no longer in production, there are many modern digital and analog drum machines that aim to emulate its sound and functionality. The 808's legacy continues to inspire new generations of musicians and producers to this day.</s>\n"
     ]
    }
   ],
   "source": [
    "print(prompt_str + full_text)"
   ]
  },
  {
   "cell_type": "code",
   "execution_count": null,
   "metadata": {},
   "outputs": [],
   "source": []
  }
 ],
 "metadata": {
  "kernelspec": {
   "display_name": "llms",
   "language": "python",
   "name": "python3"
  },
  "language_info": {
   "codemirror_mode": {
    "name": "ipython",
    "version": 3
   },
   "file_extension": ".py",
   "mimetype": "text/x-python",
   "name": "python",
   "nbconvert_exporter": "python",
   "pygments_lexer": "ipython3",
   "version": "3.11.6"
  }
 },
 "nbformat": 4,
 "nbformat_minor": 2
}
