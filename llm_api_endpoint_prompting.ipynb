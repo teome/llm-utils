{
 "cells": [
  {
   "cell_type": "markdown",
   "metadata": {},
   "source": [
    "# API endpoint prompt format testing\n",
    "Playing with different formats for mostly mistral models. Using Together via the `/inference` endpoint we can bypass their prompt formatting for instruct/chat models and have more control.\n",
    "\n",
    "This means there's still the control and instructing of these models, but we can also part-fill their responses to guide.\n",
    "\n",
    "Alternatively, just use the base models and ignore the instruction tuning completely. There's still a lot of non-instruct style things that can be done with the instruction tuned models, but their logit distributions are altered from the base and it's not yet clear in what ways this is better or worse for extracting the best reasoning and knoweledge from them if you don't need to have structured conversations...this is still a research question."
   ]
  },
  {
   "cell_type": "code",
   "execution_count": 12,
   "metadata": {},
   "outputs": [],
   "source": [
    "import json\n",
    "import os\n",
    "import sys\n",
    "from typing import List, Dict, Any"
   ]
  },
  {
   "cell_type": "code",
   "execution_count": 13,
   "metadata": {},
   "outputs": [],
   "source": [
    "# add the parent directory to the path so we can import the module\n",
    "# sys.path.append(os.path.abspath('.'))\n",
    "sys.path.append(os.getcwd())"
   ]
  },
  {
   "cell_type": "code",
   "execution_count": 14,
   "metadata": {},
   "outputs": [
    {
     "data": {
      "text/plain": [
       "True"
      ]
     },
     "execution_count": 14,
     "metadata": {},
     "output_type": "execute_result"
    }
   ],
   "source": [
    "from dotenv import load_dotenv\n",
    "load_dotenv()"
   ]
  },
  {
   "cell_type": "code",
   "execution_count": 15,
   "metadata": {},
   "outputs": [],
   "source": [
    "from llm_utils.endpoint_utils import rest_api_request"
   ]
  },
  {
   "cell_type": "code",
   "execution_count": 42,
   "metadata": {},
   "outputs": [],
   "source": [
    "def create_json_data_together_base(model: str, max_tokens: int = 1024, temperature: float = 0.7, repetition_penalty: float = 1.0, top_p: float = 0.7, **kwargs) -> Dict[str, Any]:\n",
    "    \"\"\"Create json dict for requests call\"\"\"\n",
    "    json_data: Dict[str, Any] = {\n",
    "        \"model\": model,\n",
    "        \"max_tokens\": max_tokens,\n",
    "        \"temperature\": temperature,\n",
    "        \"repetition_penalty\": repetition_penalty,\n",
    "        \"top_p\": top_p,\n",
    "        **kwargs,\n",
    "    }\n",
    "    return json_data\n",
    "def create_json_data_together_chat(model: str, messages: List[str], max_tokens: int = 1024, temperature: float = 0.7, repetition_penalty: float = 1.0, top_p: float = 0.7, **kwargs) -> Dict[str, Any]:\n",
    "    \"\"\"Create json dict for requests call\"\"\"\n",
    "    return create_json_data_together_base(model, max_tokens, temperature, repetition_penalty, top_p, messages=messages, **kwargs)\n",
    "\n",
    "def create_json_data_together_inference(model: str, prompt: str, max_tokens: int = 1024, temperature: float = 0.7, repetition_penalty: float = 1.0, top_p: float = 0.7, **kwargs) -> Dict[str, Any]:\n",
    "    \"\"\"Create json dict for requests call\"\"\"\n",
    "    return create_json_data_together_base(model, max_tokens, temperature, repetition_penalty, top_p, prompt=prompt, **kwargs)\n"
   ]
  },
  {
   "cell_type": "code",
   "execution_count": 43,
   "metadata": {},
   "outputs": [],
   "source": [
    "fmt_prompt_mistral_instruct = \"\"\"\\\n",
    "[INST] {prompt} [/INST] \\\n",
    "\"\"\""
   ]
  },
  {
   "cell_type": "code",
   "execution_count": 46,
   "metadata": {},
   "outputs": [],
   "source": [
    "prompt = \"What's the Roland 808?\"\n",
    "prompt_str = fmt_prompt_mistral_instruct.format(prompt=prompt)"
   ]
  },
  {
   "cell_type": "code",
   "execution_count": 47,
   "metadata": {},
   "outputs": [
    {
     "data": {
      "text/plain": [
       "\"[INST] What's the Roland 808? [/INST] \""
      ]
     },
     "execution_count": 47,
     "metadata": {},
     "output_type": "execute_result"
    }
   ],
   "source": [
    "prompt_str"
   ]
  },
  {
   "cell_type": "code",
   "execution_count": 64,
   "metadata": {},
   "outputs": [],
   "source": [
    "BASE_URL = \"https://api.together.xyz/inference\"\n",
    "API_KEY = os.getenv(\"TOGETHER_API_KEY\")\n",
    "MODEL = \"mistralai/Mixtral-8x7B-Instruct-v0.1\"\n",
    "# MODEL = \"mistralai/Mixtral-8x7B-v0.1\""
   ]
  },
  {
   "cell_type": "code",
   "execution_count": 65,
   "metadata": {},
   "outputs": [
    {
     "data": {
      "text/plain": [
       "{'model': 'mistralai/Mixtral-8x7B-Instruct-v0.1',\n",
       " 'max_tokens': 1024,\n",
       " 'temperature': 0.7,\n",
       " 'repetition_penalty': 1.0,\n",
       " 'top_p': 0.7,\n",
       " 'prompt': \"[INST] What's the Roland 808? [/INST] \"}"
      ]
     },
     "execution_count": 65,
     "metadata": {},
     "output_type": "execute_result"
    }
   ],
   "source": [
    "create_json_data_together_inference(MODEL, prompt_str)"
   ]
  },
  {
   "cell_type": "code",
   "execution_count": 66,
   "metadata": {},
   "outputs": [],
   "source": [
    "response = rest_api_request(BASE_URL, create_json_data_together_inference(MODEL, prompt_str), API_KEY,)"
   ]
  },
  {
   "cell_type": "code",
   "execution_count": 67,
   "metadata": {},
   "outputs": [
    {
     "name": "stdout",
     "output_type": "stream",
     "text": [
      "{\n",
      "    \"args\": {\n",
      "        \"max_tokens\": 1024,\n",
      "        \"model\": \"mistralai/Mixtral-8x7B-Instruct-v0.1\",\n",
      "        \"prompt\": \"[INST] What's the Roland 808? [/INST] \",\n",
      "        \"repetition_penalty\": 1,\n",
      "        \"temperature\": 0.7,\n",
      "        \"top_p\": 0.7\n",
      "    },\n",
      "    \"id\": \"8403c28c4f847756-LHR\",\n",
      "    \"model\": \"mistralai/Mixtral-8x7B-Instruct-v0.1\",\n",
      "    \"model_owner\": \"\",\n",
      "    \"num_returns\": 1,\n",
      "    \"output\": {\n",
      "        \"choices\": [\n",
      "            {\n",
      "                \"text\": \"\\tThe Roland TR-808 Rhythm Composer, commonly known as the Roland 808, is a programmable drum machine manufactured by the Roland Corporation between 1980 and 1984. It was one of the first drum machines to allow users to program their own rhythms, and it quickly became a popular tool for musicians and producers in a variety of genres, including hip hop, electronic music, and pop.\\n\\nThe 808 features a simple step-sequencer interface and a range of built-in percussion sounds, including kick drum, snare drum, hi-hat, and various other electronic sounds. The sounds can be adjusted for pitch, decay, and volume, and the sequencer can be programmed to play complex patterns and rhythms.\\n\\nDespite being discontinued in the mid-1980s, the 808 has remained a beloved and influential instrument in the world of music. Its distinctive sound has been used in countless hit songs and has become a defining characteristic of many genres, including hip hop, techno, and house music. The 808 has also been the subject of numerous tributes and reissues, and it continues to be a popular tool for musicians and producers today.\"\n",
      "            }\n",
      "        ],\n",
      "        \"result_type\": \"language-model-inference\",\n",
      "        \"usage\": {\n",
      "            \"completion_tokens\": 272,\n",
      "            \"prompt_tokens\": 19,\n",
      "            \"total_tokens\": 291\n",
      "        }\n",
      "    },\n",
      "    \"prompt\": [\n",
      "        \"[INST] What's the Roland 808? [/INST] \"\n",
      "    ],\n",
      "    \"status\": \"finished\",\n",
      "    \"subjobs\": []\n",
      "}\n",
      "\n",
      "\n",
      "\tThe Roland TR-808 Rhythm Composer, commonly known as the Roland 808, is a programmable drum machine manufactured by the Roland Corporation between 1980 and 1984. It was one of the first drum machines to allow users to program their own rhythms, and it quickly became a popular tool for musicians and producers in a variety of genres, including hip hop, electronic music, and pop.\n",
      "\n",
      "The 808 features a simple step-sequencer interface and a range of built-in percussion sounds, including kick drum, snare drum, hi-hat, and various other electronic sounds. The sounds can be adjusted for pitch, decay, and volume, and the sequencer can be programmed to play complex patterns and rhythms.\n",
      "\n",
      "Despite being discontinued in the mid-1980s, the 808 has remained a beloved and influential instrument in the world of music. Its distinctive sound has been used in countless hit songs and has become a defining characteristic of many genres, including hip hop, techno, and house music. The 808 has also been the subject of numerous tributes and reissues, and it continues to be a popular tool for musicians and producers today.\n"
     ]
    }
   ],
   "source": [
    "# response.content.decode(\"utf-8\")\n",
    "json_data = response.json()\n",
    "print(json.dumps(json_data, indent=4, sort_keys=True))\n",
    "print('\\n\\n' + json_data['output']['choices'][0]['text'])"
   ]
  },
  {
   "cell_type": "code",
   "execution_count": null,
   "metadata": {},
   "outputs": [],
   "source": []
  }
 ],
 "metadata": {
  "kernelspec": {
   "display_name": "llms",
   "language": "python",
   "name": "python3"
  },
  "language_info": {
   "codemirror_mode": {
    "name": "ipython",
    "version": 3
   },
   "file_extension": ".py",
   "mimetype": "text/x-python",
   "name": "python",
   "nbconvert_exporter": "python",
   "pygments_lexer": "ipython3",
   "version": "3.11.6"
  }
 },
 "nbformat": 4,
 "nbformat_minor": 2
}
